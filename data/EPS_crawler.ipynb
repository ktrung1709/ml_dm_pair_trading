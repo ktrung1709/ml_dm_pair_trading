{
 "cells": [
  {
   "cell_type": "code",
   "execution_count": 1,
   "id": "2df58f9d",
   "metadata": {},
   "outputs": [],
   "source": [
    "import requests\n",
    "from bs4 import BeautifulSoup\n",
    "import re\n",
    "\n",
    "import pandas as pd"
   ]
  },
  {
   "cell_type": "code",
   "execution_count": 2,
   "id": "263aafe5",
   "metadata": {},
   "outputs": [],
   "source": [
    "df = pd.read_excel('ticker.xlsx', sheet_name=0) # can also index sheet by name or fetch all sheets\n",
    "tickerList = df['Ticker'].tolist()\n",
    "# print(tickerList)\n",
    "\n",
    "eps_2017 = []\n",
    "eps_2018 = []\n",
    "eps_2019 = []\n",
    "eps_2020 = []\n",
    "eps_2021 = []"
   ]
  },
  {
   "cell_type": "code",
   "execution_count": null,
   "id": "c239cc89",
   "metadata": {},
   "outputs": [],
   "source": [
    "url = 'https://www.marketwatch.com/investing/stock/aaa/financials?countrycode=vn&mod=mw_quote_tab'\n",
    "# Send a GET request to the URL and retrieve the HTML content\n",
    "response = requests.get(url)\n",
    "html_content = response.text\n",
    "\n",
    "# Parse the HTML content using BeautifulSoup\n",
    "soup = BeautifulSoup(html_content, 'html.parser')\n",
    "\n",
    "\n",
    "# Extract the desired data from the HTML\n",
    "\n",
    "html_string = soup.prettify()\n",
    "# Specify the file path where you want to save the HTML content\n",
    "file_path = 'result.html'\n",
    "\n",
    "# Open the file in write mode and write the HTML content\n",
    "with open(file_path, 'w', encoding='utf-8') as file:\n",
    "    file.write(html_string)"
   ]
  },
  {
   "cell_type": "code",
   "execution_count": null,
   "id": "a731ae34",
   "metadata": {},
   "outputs": [],
   "source": [
    "# Find the row containing the EPS values\n",
    "eps_row = None\n",
    "table_rows = soup.find_all('tr', class_='table__row')\n",
    "for row in table_rows:\n",
    "    if 'EPS (Basic)' in row.get_text():\n",
    "        eps_row = row\n",
    "        break\n",
    "\n",
    "# Extract the EPS values from the row\n",
    "if eps_row:\n",
    "    eps_values = [span.get_text(strip=True) for span in eps_row.find_all('span')]\n",
    "    print(eps_values)\n",
    "else:\n",
    "    print(\"EPS row not found\")\n",
    "    eps_values = [0, 0, 0, 0, 0]\n",
    "    \n",
    "formatted_eps_values = []\n",
    "\n",
    "for value in eps_values:\n",
    "    if 'K' in value:\n",
    "        # Remove 'K' and convert to float\n",
    "        numeric_value = float(value[:-1])\n",
    "    else:\n",
    "        numeric_value = float(value) / 1000\n",
    "    \n",
    "    formatted_eps_values.append(numeric_value)\n",
    "\n",
    "print(formatted_eps_values)\n",
    "\n",
    "\n",
    "eps_2017.append(formatted_eps_values[0])\n",
    "eps_2018.append(formatted_eps_values[1])\n",
    "eps_2019.append(formatted_eps_values[2]) \n",
    "eps_2020.append(formatted_eps_values[3]) \n",
    "eps_2021.append(formatted_eps_values[4])"
   ]
  },
  {
   "cell_type": "code",
   "execution_count": 3,
   "id": "603c3f9c",
   "metadata": {
    "scrolled": false
   },
   "outputs": [
    {
     "name": "stdout",
     "output_type": "stream",
     "text": [
      "['965.21', '2.33K', '1.19K', '993.7', '432.98']\n",
      "[0.96521, 2.33, 1.19, 0.9937, 0.43298000000000003]\n",
      "1\n",
      "['677.36', '700.28', '(1.15K)', '21.58', '1.46K']\n",
      "[0.67736, 0.70028, -1.15, 0.02158, 1.46]\n",
      "2\n",
      "['545', '361.8', '819.97', '1.42K']\n",
      "[0.545, 0.3618, 0.81997, 1.42]\n"
     ]
    },
    {
     "ename": "IndexError",
     "evalue": "list index out of range",
     "output_type": "error",
     "traceback": [
      "\u001b[1;31m---------------------------------------------------------------------------\u001b[0m",
      "\u001b[1;31mIndexError\u001b[0m                                Traceback (most recent call last)",
      "\u001b[1;32m~\\AppData\\Local\\Temp\\ipykernel_13044\\1704173534.py\u001b[0m in \u001b[0;36m<module>\u001b[1;34m\u001b[0m\n\u001b[0;32m     67\u001b[0m     \u001b[0meps_2019\u001b[0m\u001b[1;33m.\u001b[0m\u001b[0mappend\u001b[0m\u001b[1;33m(\u001b[0m\u001b[0mformatted_eps_values\u001b[0m\u001b[1;33m[\u001b[0m\u001b[1;36m2\u001b[0m\u001b[1;33m]\u001b[0m\u001b[1;33m)\u001b[0m\u001b[1;33m\u001b[0m\u001b[1;33m\u001b[0m\u001b[0m\n\u001b[0;32m     68\u001b[0m     \u001b[0meps_2020\u001b[0m\u001b[1;33m.\u001b[0m\u001b[0mappend\u001b[0m\u001b[1;33m(\u001b[0m\u001b[0mformatted_eps_values\u001b[0m\u001b[1;33m[\u001b[0m\u001b[1;36m3\u001b[0m\u001b[1;33m]\u001b[0m\u001b[1;33m)\u001b[0m\u001b[1;33m\u001b[0m\u001b[1;33m\u001b[0m\u001b[0m\n\u001b[1;32m---> 69\u001b[1;33m     \u001b[0meps_2021\u001b[0m\u001b[1;33m.\u001b[0m\u001b[0mappend\u001b[0m\u001b[1;33m(\u001b[0m\u001b[0mformatted_eps_values\u001b[0m\u001b[1;33m[\u001b[0m\u001b[1;36m4\u001b[0m\u001b[1;33m]\u001b[0m\u001b[1;33m)\u001b[0m\u001b[1;33m\u001b[0m\u001b[1;33m\u001b[0m\u001b[0m\n\u001b[0m\u001b[0;32m     70\u001b[0m \u001b[1;33m\u001b[0m\u001b[0m\n\u001b[0;32m     71\u001b[0m     \u001b[0mcount\u001b[0m\u001b[1;33m+=\u001b[0m\u001b[1;36m1\u001b[0m\u001b[1;33m\u001b[0m\u001b[1;33m\u001b[0m\u001b[0m\n",
      "\u001b[1;31mIndexError\u001b[0m: list index out of range"
     ]
    }
   ],
   "source": [
    "count = 0\n",
    "for ticker in tickerList:\n",
    "# Specify the URL of the HTML link\n",
    "    url = 'https://www.marketwatch.com/investing/stock/'+ ticker +'/financials?countrycode=vn&mod=mw_quote_tab'\n",
    "    # Send a GET request to the URL and retrieve the HTML content\n",
    "    response = requests.get(url)\n",
    "    html_content = response.text\n",
    "\n",
    "    # Parse the HTML content using BeautifulSoup\n",
    "    soup = BeautifulSoup(html_content, 'html.parser')\n",
    "\n",
    "    html_string = soup.prettify()\n",
    "    # Specify the file path where you want to save the HTML content\n",
    "    file_path = 'result.html'\n",
    "\n",
    "    # Open the file in write mode and write the HTML content\n",
    "    with open(file_path, 'w', encoding='utf-8') as file:\n",
    "        file.write(html_string)\n",
    "\n",
    "\n",
    "    # Load the HTML file\n",
    "    with open(file_path, 'r', encoding='utf-8') as file:\n",
    "        html_content = file.read()\n",
    "\n",
    "    # Create a BeautifulSoup object\n",
    "    soup = BeautifulSoup(html_content, 'html.parser')\n",
    "\n",
    "\n",
    "\n",
    "    # Find the row containing the EPS values\n",
    "    eps_row = None\n",
    "    table_rows = soup.find_all('tr', class_='table__row')\n",
    "    for row in table_rows:\n",
    "        if 'EPS (Basic)' in row.get_text():\n",
    "            eps_row = row\n",
    "            break\n",
    "\n",
    "    # Extract the EPS values from the row\n",
    "    if eps_row:\n",
    "        eps_values = [span.get_text(strip=True) for span in eps_row.find_all('span')]\n",
    "        print(eps_values)\n",
    "    else:\n",
    "        print(\"EPS row not found\")\n",
    "        eps_values = [0, 0, 0, 0, 0]\n",
    "\n",
    "    formatted_eps_values = []\n",
    "\n",
    "    for value in eps_values:\n",
    "        \n",
    "        if 'K' in value:\n",
    "            if value.startswith('(') and value.endswith(')'):\n",
    "                numeric_value = -float(value[1:-2])\n",
    "            else:\n",
    "                numeric_value = float(value[:-1])\n",
    "        else:\n",
    "            if value.startswith('(') and value.endswith(')'):\n",
    "                numeric_value = -float(value[1:-1])/1000\n",
    "            else:\n",
    "                numeric_value = float(value) / 1000\n",
    "\n",
    "        formatted_eps_values.append(numeric_value)\n",
    "\n",
    "    print(formatted_eps_values)\n",
    "\n",
    "    eps_2017.append(formatted_eps_values[0])\n",
    "    eps_2018.append(formatted_eps_values[1])\n",
    "    eps_2019.append(formatted_eps_values[2]) \n",
    "    eps_2020.append(formatted_eps_values[3]) \n",
    "    eps_2021.append(formatted_eps_values[4])\n",
    "    \n",
    "    count+=1\n",
    "    print(count)"
   ]
  },
  {
   "cell_type": "code",
   "execution_count": null,
   "id": "942ce658",
   "metadata": {},
   "outputs": [],
   "source": [
    "df['Industry'] = industryList\n",
    "df.to_excel(\"industry.xlsx\")\n",
    "print(\"Done\")"
   ]
  },
  {
   "cell_type": "code",
   "execution_count": null,
   "id": "56b9e833",
   "metadata": {},
   "outputs": [],
   "source": []
  }
 ],
 "metadata": {
  "kernelspec": {
   "display_name": "Python 3 (ipykernel)",
   "language": "python",
   "name": "python3"
  },
  "language_info": {
   "codemirror_mode": {
    "name": "ipython",
    "version": 3
   },
   "file_extension": ".py",
   "mimetype": "text/x-python",
   "name": "python",
   "nbconvert_exporter": "python",
   "pygments_lexer": "ipython3",
   "version": "3.9.13"
  }
 },
 "nbformat": 4,
 "nbformat_minor": 5
}
