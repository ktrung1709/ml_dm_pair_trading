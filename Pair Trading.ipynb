{
 "cells": [
  {
   "cell_type": "code",
   "execution_count": 1,
   "id": "aeca2063",
   "metadata": {
    "scrolled": false
   },
   "outputs": [
    {
     "data": {
      "text/html": [
       "<h1>Import Data</h1>\n"
      ],
      "text/plain": [
       "<IPython.core.display.HTML object>"
      ]
     },
     "metadata": {},
     "output_type": "display_data"
    }
   ],
   "source": [
    "%%HTML\n",
    "<h1>Import Data</h1>"
   ]
  },
  {
   "cell_type": "code",
   "execution_count": 2,
   "id": "af7ed849",
   "metadata": {
    "scrolled": false
   },
   "outputs": [
    {
     "data": {
      "text/html": [
       "<div>\n",
       "<style scoped>\n",
       "    .dataframe tbody tr th:only-of-type {\n",
       "        vertical-align: middle;\n",
       "    }\n",
       "\n",
       "    .dataframe tbody tr th {\n",
       "        vertical-align: top;\n",
       "    }\n",
       "\n",
       "    .dataframe thead th {\n",
       "        text-align: right;\n",
       "    }\n",
       "</style>\n",
       "<table border=\"1\" class=\"dataframe\">\n",
       "  <thead>\n",
       "    <tr style=\"text-align: right;\">\n",
       "      <th></th>\n",
       "      <th>&lt;Ticker&gt;</th>\n",
       "      <th>&lt;DTYYYYMMDD&gt;</th>\n",
       "      <th>&lt;Open&gt;</th>\n",
       "      <th>&lt;High&gt;</th>\n",
       "      <th>&lt;Low&gt;</th>\n",
       "      <th>&lt;Close&gt;</th>\n",
       "      <th>&lt;Volume&gt;</th>\n",
       "    </tr>\n",
       "  </thead>\n",
       "  <tbody>\n",
       "    <tr>\n",
       "      <th>0</th>\n",
       "      <td>AAV</td>\n",
       "      <td>20210730</td>\n",
       "      <td>12.4</td>\n",
       "      <td>12.4</td>\n",
       "      <td>12.1</td>\n",
       "      <td>12.4</td>\n",
       "      <td>166400</td>\n",
       "    </tr>\n",
       "    <tr>\n",
       "      <th>1</th>\n",
       "      <td>ABT</td>\n",
       "      <td>20210730</td>\n",
       "      <td>26.0</td>\n",
       "      <td>27.2</td>\n",
       "      <td>26.0</td>\n",
       "      <td>27.1</td>\n",
       "      <td>1207</td>\n",
       "    </tr>\n",
       "    <tr>\n",
       "      <th>2</th>\n",
       "      <td>ACM</td>\n",
       "      <td>20210730</td>\n",
       "      <td>2.3</td>\n",
       "      <td>2.4</td>\n",
       "      <td>2.3</td>\n",
       "      <td>2.4</td>\n",
       "      <td>592463</td>\n",
       "    </tr>\n",
       "    <tr>\n",
       "      <th>3</th>\n",
       "      <td>ADC</td>\n",
       "      <td>20210730</td>\n",
       "      <td>21.5</td>\n",
       "      <td>21.5</td>\n",
       "      <td>21.5</td>\n",
       "      <td>21.5</td>\n",
       "      <td>0</td>\n",
       "    </tr>\n",
       "    <tr>\n",
       "      <th>4</th>\n",
       "      <td>ALT</td>\n",
       "      <td>20210730</td>\n",
       "      <td>12.7</td>\n",
       "      <td>12.7</td>\n",
       "      <td>12.7</td>\n",
       "      <td>12.7</td>\n",
       "      <td>0</td>\n",
       "    </tr>\n",
       "  </tbody>\n",
       "</table>\n",
       "</div>"
      ],
      "text/plain": [
       "  <Ticker>  <DTYYYYMMDD>  <Open>  <High>  <Low>  <Close>  <Volume>\n",
       "0      AAV      20210730    12.4    12.4   12.1     12.4    166400\n",
       "1      ABT      20210730    26.0    27.2   26.0     27.1      1207\n",
       "2      ACM      20210730     2.3     2.4    2.3      2.4    592463\n",
       "3      ADC      20210730    21.5    21.5   21.5     21.5         0\n",
       "4      ALT      20210730    12.7    12.7   12.7     12.7         0"
      ]
     },
     "execution_count": 2,
     "metadata": {},
     "output_type": "execute_result"
    }
   ],
   "source": [
    "import pandas as pd\n",
    "df1 = pd.read_csv('./data_crawler/210730_HNX_ALL.txt', sep = ',')\n",
    "df2 = pd.read_csv('./data_crawler/210730_HOSE_ALL.txt', sep = ',')\n",
    "\n",
    "frames = [df1, df2]\n",
    "df = pd.concat(frames, ignore_index = True)\n",
    "df.head()"
   ]
  },
  {
   "cell_type": "code",
   "execution_count": 3,
   "id": "f2d58dce",
   "metadata": {
    "scrolled": true
   },
   "outputs": [
    {
     "data": {
      "text/html": [
       "<h1>Extract Data</h1>\n"
      ],
      "text/plain": [
       "<IPython.core.display.HTML object>"
      ]
     },
     "metadata": {},
     "output_type": "display_data"
    }
   ],
   "source": [
    "%%HTML\n",
    "<h1>Extract Data</h1>"
   ]
  },
  {
   "cell_type": "code",
   "execution_count": 4,
   "id": "ea81223b",
   "metadata": {
    "scrolled": true
   },
   "outputs": [
    {
     "data": {
      "text/html": [
       "<div>\n",
       "<style scoped>\n",
       "    .dataframe tbody tr th:only-of-type {\n",
       "        vertical-align: middle;\n",
       "    }\n",
       "\n",
       "    .dataframe tbody tr th {\n",
       "        vertical-align: top;\n",
       "    }\n",
       "\n",
       "    .dataframe thead th {\n",
       "        text-align: right;\n",
       "    }\n",
       "</style>\n",
       "<table border=\"1\" class=\"dataframe\">\n",
       "  <thead>\n",
       "    <tr style=\"text-align: right;\">\n",
       "      <th></th>\n",
       "      <th>Ticker</th>\n",
       "      <th>DTYYYYMMDD</th>\n",
       "      <th>Open</th>\n",
       "      <th>High</th>\n",
       "      <th>Low</th>\n",
       "      <th>Close</th>\n",
       "      <th>Volume</th>\n",
       "    </tr>\n",
       "  </thead>\n",
       "  <tbody>\n",
       "    <tr>\n",
       "      <th>0</th>\n",
       "      <td>AAV</td>\n",
       "      <td>2021-07-30</td>\n",
       "      <td>12.4</td>\n",
       "      <td>12.4</td>\n",
       "      <td>12.1</td>\n",
       "      <td>12.4</td>\n",
       "      <td>166400</td>\n",
       "    </tr>\n",
       "    <tr>\n",
       "      <th>1</th>\n",
       "      <td>ABT</td>\n",
       "      <td>2021-07-30</td>\n",
       "      <td>26.0</td>\n",
       "      <td>27.2</td>\n",
       "      <td>26.0</td>\n",
       "      <td>27.1</td>\n",
       "      <td>1207</td>\n",
       "    </tr>\n",
       "    <tr>\n",
       "      <th>2</th>\n",
       "      <td>ACM</td>\n",
       "      <td>2021-07-30</td>\n",
       "      <td>2.3</td>\n",
       "      <td>2.4</td>\n",
       "      <td>2.3</td>\n",
       "      <td>2.4</td>\n",
       "      <td>592463</td>\n",
       "    </tr>\n",
       "    <tr>\n",
       "      <th>3</th>\n",
       "      <td>ADC</td>\n",
       "      <td>2021-07-30</td>\n",
       "      <td>21.5</td>\n",
       "      <td>21.5</td>\n",
       "      <td>21.5</td>\n",
       "      <td>21.5</td>\n",
       "      <td>0</td>\n",
       "    </tr>\n",
       "    <tr>\n",
       "      <th>4</th>\n",
       "      <td>ALT</td>\n",
       "      <td>2021-07-30</td>\n",
       "      <td>12.7</td>\n",
       "      <td>12.7</td>\n",
       "      <td>12.7</td>\n",
       "      <td>12.7</td>\n",
       "      <td>0</td>\n",
       "    </tr>\n",
       "  </tbody>\n",
       "</table>\n",
       "</div>"
      ],
      "text/plain": [
       "  Ticker DTYYYYMMDD  Open  High   Low  Close  Volume\n",
       "0    AAV 2021-07-30  12.4  12.4  12.1   12.4  166400\n",
       "1    ABT 2021-07-30  26.0  27.2  26.0   27.1    1207\n",
       "2    ACM 2021-07-30   2.3   2.4   2.3    2.4  592463\n",
       "3    ADC 2021-07-30  21.5  21.5  21.5   21.5       0\n",
       "4    ALT 2021-07-30  12.7  12.7  12.7   12.7       0"
      ]
     },
     "execution_count": 4,
     "metadata": {},
     "output_type": "execute_result"
    }
   ],
   "source": [
    "# Remove redundant characters\n",
    "df.columns=df.columns.str.replace('[<,>]','', regex=True)\n",
    "df.head()\n",
    "\n",
    "# Drop duplicate records\n",
    "df_modified = df.drop_duplicates(subset = ['Ticker', 'DTYYYYMMDD'], keep = 'first')\n",
    "\n",
    "# Change date data type\n",
    "df_modified[\"DTYYYYMMDD\"] = pd.to_datetime(df_modified[\"DTYYYYMMDD\"], format='%Y%m%d')\n",
    "df_modified.head()"
   ]
  },
  {
   "cell_type": "code",
   "execution_count": 5,
   "id": "7207c034",
   "metadata": {
    "scrolled": false
   },
   "outputs": [
    {
     "name": "stdout",
     "output_type": "stream",
     "text": [
      "Ticker         AAA     AAM   AAT   AAV    ABS     ABT     ACB     ACC     ACL  \\\n",
      "DTYYYYMMDD                                                                      \n",
      "2012-01-03   2.950   8.336   NaN   NaN    NaN  13.371   5.760   5.259   5.411   \n",
      "2012-01-04   2.976   8.487   NaN   NaN    NaN  13.409   5.760   5.289   5.349   \n",
      "2012-01-05   2.950   8.374   NaN   NaN    NaN  13.669   5.939   5.053   5.349   \n",
      "2012-01-06   2.925   8.374   NaN   NaN    NaN  13.036   5.819   5.289   5.349   \n",
      "2012-01-09   2.950   8.374   NaN   NaN    NaN  13.036   5.790   5.289   5.349   \n",
      "...            ...     ...   ...   ...    ...     ...     ...     ...     ...   \n",
      "2021-07-26  15.450  10.800  17.5  12.4  18.55  27.600  32.700  14.000  11.400   \n",
      "2021-07-27  16.000  10.500  17.7  12.4  18.90  27.600  33.150  13.700  11.600   \n",
      "2021-07-28  16.300  10.100  17.6  12.4  19.35  27.000  33.150  13.700  11.600   \n",
      "2021-07-29  16.150  10.800  17.6  12.4  19.95  27.000  34.150  13.700  11.500   \n",
      "2021-07-30  16.150  10.900  17.6  12.4  20.40  27.100  36.150  13.750  11.550   \n",
      "\n",
      "Ticker      ACM  ...  VTJ     VTL    VTO    VTV    VXB     WCS  WSS   X20  \\\n",
      "DTYYYYMMDD       ...                                                        \n",
      "2012-01-03  NaN  ...  NaN  15.657  1.707  1.224  3.521   14.96  3.1   NaN   \n",
      "2012-01-04  NaN  ...  NaN  15.657  1.707  1.269  3.521   14.96  2.9   NaN   \n",
      "2012-01-05  NaN  ...  NaN  15.657  1.666  1.269  3.298   14.96  2.9   NaN   \n",
      "2012-01-06  NaN  ...  NaN  15.657  1.626  1.269  3.164   14.96  2.8   NaN   \n",
      "2012-01-09  NaN  ...  NaN  15.657  1.666  1.291  3.030   14.96  2.8   NaN   \n",
      "...         ...  ...  ...     ...    ...    ...    ...     ...  ...   ...   \n",
      "2021-07-26  2.3  ...  4.3  12.100  8.610  6.100  9.700  177.00  7.0  10.7   \n",
      "2021-07-27  2.3  ...  4.4  12.100  8.680  6.100  9.700  177.00  7.2  10.7   \n",
      "2021-07-28  2.3  ...  4.3  12.100  8.750  6.100  9.700  178.00  7.1  10.7   \n",
      "2021-07-29  2.3  ...  4.3  12.100  8.940  6.100  9.700  178.00  7.3  10.5   \n",
      "2021-07-30  2.4  ...  4.2  12.100  9.240  6.100  9.700  178.00  7.2  10.5   \n",
      "\n",
      "Ticker       YBM    YEG  \n",
      "DTYYYYMMDD               \n",
      "2012-01-03   NaN    NaN  \n",
      "2012-01-04   NaN    NaN  \n",
      "2012-01-05   NaN    NaN  \n",
      "2012-01-06   NaN    NaN  \n",
      "2012-01-09   NaN    NaN  \n",
      "...          ...    ...  \n",
      "2021-07-26  6.75  16.20  \n",
      "2021-07-27  6.81  15.80  \n",
      "2021-07-28  6.84  15.05  \n",
      "2021-07-29  6.84  15.40  \n",
      "2021-07-30  6.60  15.40  \n",
      "\n",
      "[2390 rows x 750 columns]\n"
     ]
    }
   ],
   "source": [
    "#Pivot the table\n",
    "data = df_modified.pivot(index='DTYYYYMMDD', columns='Ticker', values = 'Close')\n",
    "print(data)"
   ]
  },
  {
   "cell_type": "code",
   "execution_count": 6,
   "id": "24bd04d1",
   "metadata": {},
   "outputs": [
    {
     "data": {
      "text/plain": [
       "True"
      ]
     },
     "execution_count": 6,
     "metadata": {},
     "output_type": "execute_result"
    }
   ],
   "source": [
    " 0 in data.values"
   ]
  },
  {
   "cell_type": "code",
   "execution_count": 7,
   "id": "2958fcc0",
   "metadata": {},
   "outputs": [],
   "source": [
    "import numpy as np\n",
    "data.replace(0, np.nan, inplace=True)"
   ]
  },
  {
   "cell_type": "code",
   "execution_count": 8,
   "id": "d178dc52",
   "metadata": {},
   "outputs": [
    {
     "data": {
      "text/plain": [
       "False"
      ]
     },
     "execution_count": 8,
     "metadata": {},
     "output_type": "execute_result"
    }
   ],
   "source": [
    "0 in data.values"
   ]
  },
  {
   "cell_type": "code",
   "execution_count": 9,
   "id": "bf233923",
   "metadata": {},
   "outputs": [],
   "source": [
    "data1= data.copy()"
   ]
  },
  {
   "cell_type": "code",
   "execution_count": 10,
   "id": "e6f59869",
   "metadata": {
    "scrolled": true
   },
   "outputs": [
    {
     "data": {
      "text/html": [
       "<h1>Filter Data</h1>\n"
      ],
      "text/plain": [
       "<IPython.core.display.HTML object>"
      ]
     },
     "metadata": {},
     "output_type": "display_data"
    }
   ],
   "source": [
    "%%HTML\n",
    "<h1>Filter Data</h1>"
   ]
  },
  {
   "cell_type": "code",
   "execution_count": 11,
   "id": "82a8576b",
   "metadata": {
    "scrolled": true
   },
   "outputs": [
    {
     "data": {
      "text/html": [
       "<h3>Here we only consider data between 01/01/2015 and 31/12/2018 (a total of 1,460 days)</h3>\n"
      ],
      "text/plain": [
       "<IPython.core.display.HTML object>"
      ]
     },
     "metadata": {},
     "output_type": "display_data"
    }
   ],
   "source": [
    "%%HTML\n",
    "<h3>Here we only consider data between 01/01/2015 and 31/12/2018 (a total of 1,460 days)</h3>"
   ]
  },
  {
   "cell_type": "code",
   "execution_count": 12,
   "id": "129b8ba0",
   "metadata": {
    "scrolled": false
   },
   "outputs": [
    {
     "data": {
      "text/html": [
       "<div>\n",
       "<style scoped>\n",
       "    .dataframe tbody tr th:only-of-type {\n",
       "        vertical-align: middle;\n",
       "    }\n",
       "\n",
       "    .dataframe tbody tr th {\n",
       "        vertical-align: top;\n",
       "    }\n",
       "\n",
       "    .dataframe thead th {\n",
       "        text-align: right;\n",
       "    }\n",
       "</style>\n",
       "<table border=\"1\" class=\"dataframe\">\n",
       "  <thead>\n",
       "    <tr style=\"text-align: right;\">\n",
       "      <th>Ticker</th>\n",
       "      <th>AAA</th>\n",
       "      <th>AAM</th>\n",
       "      <th>AAT</th>\n",
       "      <th>AAV</th>\n",
       "      <th>ABS</th>\n",
       "      <th>ABT</th>\n",
       "      <th>ACB</th>\n",
       "      <th>ACC</th>\n",
       "      <th>ACL</th>\n",
       "      <th>ACM</th>\n",
       "      <th>...</th>\n",
       "      <th>VTJ</th>\n",
       "      <th>VTL</th>\n",
       "      <th>VTO</th>\n",
       "      <th>VTV</th>\n",
       "      <th>VXB</th>\n",
       "      <th>WCS</th>\n",
       "      <th>WSS</th>\n",
       "      <th>X20</th>\n",
       "      <th>YBM</th>\n",
       "      <th>YEG</th>\n",
       "    </tr>\n",
       "    <tr>\n",
       "      <th>DTYYYYMMDD</th>\n",
       "      <th></th>\n",
       "      <th></th>\n",
       "      <th></th>\n",
       "      <th></th>\n",
       "      <th></th>\n",
       "      <th></th>\n",
       "      <th></th>\n",
       "      <th></th>\n",
       "      <th></th>\n",
       "      <th></th>\n",
       "      <th></th>\n",
       "      <th></th>\n",
       "      <th></th>\n",
       "      <th></th>\n",
       "      <th></th>\n",
       "      <th></th>\n",
       "      <th></th>\n",
       "      <th></th>\n",
       "      <th></th>\n",
       "      <th></th>\n",
       "      <th></th>\n",
       "    </tr>\n",
       "  </thead>\n",
       "  <tbody>\n",
       "    <tr>\n",
       "      <th>2015-01-05</th>\n",
       "      <td>6.223</td>\n",
       "      <td>7.485</td>\n",
       "      <td>NaN</td>\n",
       "      <td>NaN</td>\n",
       "      <td>NaN</td>\n",
       "      <td>31.261</td>\n",
       "      <td>4.991</td>\n",
       "      <td>14.233</td>\n",
       "      <td>4.147</td>\n",
       "      <td>NaN</td>\n",
       "      <td>...</td>\n",
       "      <td>NaN</td>\n",
       "      <td>11.92</td>\n",
       "      <td>4.526</td>\n",
       "      <td>6.860</td>\n",
       "      <td>11.637</td>\n",
       "      <td>82.363</td>\n",
       "      <td>5.2</td>\n",
       "      <td>NaN</td>\n",
       "      <td>NaN</td>\n",
       "      <td>NaN</td>\n",
       "    </tr>\n",
       "    <tr>\n",
       "      <th>2015-01-06</th>\n",
       "      <td>6.314</td>\n",
       "      <td>7.433</td>\n",
       "      <td>NaN</td>\n",
       "      <td>NaN</td>\n",
       "      <td>NaN</td>\n",
       "      <td>31.261</td>\n",
       "      <td>5.056</td>\n",
       "      <td>13.758</td>\n",
       "      <td>4.147</td>\n",
       "      <td>NaN</td>\n",
       "      <td>...</td>\n",
       "      <td>NaN</td>\n",
       "      <td>11.92</td>\n",
       "      <td>4.744</td>\n",
       "      <td>6.890</td>\n",
       "      <td>11.637</td>\n",
       "      <td>76.315</td>\n",
       "      <td>5.4</td>\n",
       "      <td>NaN</td>\n",
       "      <td>NaN</td>\n",
       "      <td>NaN</td>\n",
       "    </tr>\n",
       "    <tr>\n",
       "      <th>2015-01-07</th>\n",
       "      <td>6.539</td>\n",
       "      <td>7.485</td>\n",
       "      <td>NaN</td>\n",
       "      <td>NaN</td>\n",
       "      <td>NaN</td>\n",
       "      <td>30.968</td>\n",
       "      <td>5.121</td>\n",
       "      <td>13.370</td>\n",
       "      <td>4.328</td>\n",
       "      <td>NaN</td>\n",
       "      <td>...</td>\n",
       "      <td>NaN</td>\n",
       "      <td>11.92</td>\n",
       "      <td>4.799</td>\n",
       "      <td>6.978</td>\n",
       "      <td>11.637</td>\n",
       "      <td>73.488</td>\n",
       "      <td>5.3</td>\n",
       "      <td>NaN</td>\n",
       "      <td>NaN</td>\n",
       "      <td>NaN</td>\n",
       "    </tr>\n",
       "    <tr>\n",
       "      <th>2015-01-08</th>\n",
       "      <td>6.404</td>\n",
       "      <td>7.537</td>\n",
       "      <td>NaN</td>\n",
       "      <td>NaN</td>\n",
       "      <td>NaN</td>\n",
       "      <td>32.137</td>\n",
       "      <td>5.154</td>\n",
       "      <td>13.370</td>\n",
       "      <td>4.328</td>\n",
       "      <td>NaN</td>\n",
       "      <td>...</td>\n",
       "      <td>NaN</td>\n",
       "      <td>11.92</td>\n",
       "      <td>4.799</td>\n",
       "      <td>7.508</td>\n",
       "      <td>11.637</td>\n",
       "      <td>73.488</td>\n",
       "      <td>5.3</td>\n",
       "      <td>NaN</td>\n",
       "      <td>NaN</td>\n",
       "      <td>NaN</td>\n",
       "    </tr>\n",
       "    <tr>\n",
       "      <th>2015-01-09</th>\n",
       "      <td>6.269</td>\n",
       "      <td>7.069</td>\n",
       "      <td>NaN</td>\n",
       "      <td>NaN</td>\n",
       "      <td>NaN</td>\n",
       "      <td>33.890</td>\n",
       "      <td>5.187</td>\n",
       "      <td>14.060</td>\n",
       "      <td>4.292</td>\n",
       "      <td>NaN</td>\n",
       "      <td>...</td>\n",
       "      <td>NaN</td>\n",
       "      <td>11.92</td>\n",
       "      <td>4.908</td>\n",
       "      <td>7.508</td>\n",
       "      <td>11.637</td>\n",
       "      <td>73.431</td>\n",
       "      <td>5.4</td>\n",
       "      <td>NaN</td>\n",
       "      <td>NaN</td>\n",
       "      <td>NaN</td>\n",
       "    </tr>\n",
       "  </tbody>\n",
       "</table>\n",
       "<p>5 rows × 750 columns</p>\n",
       "</div>"
      ],
      "text/plain": [
       "Ticker        AAA    AAM  AAT  AAV  ABS     ABT    ACB     ACC    ACL  ACM  \\\n",
       "DTYYYYMMDD                                                                   \n",
       "2015-01-05  6.223  7.485  NaN  NaN  NaN  31.261  4.991  14.233  4.147  NaN   \n",
       "2015-01-06  6.314  7.433  NaN  NaN  NaN  31.261  5.056  13.758  4.147  NaN   \n",
       "2015-01-07  6.539  7.485  NaN  NaN  NaN  30.968  5.121  13.370  4.328  NaN   \n",
       "2015-01-08  6.404  7.537  NaN  NaN  NaN  32.137  5.154  13.370  4.328  NaN   \n",
       "2015-01-09  6.269  7.069  NaN  NaN  NaN  33.890  5.187  14.060  4.292  NaN   \n",
       "\n",
       "Ticker      ...  VTJ    VTL    VTO    VTV     VXB     WCS  WSS  X20  YBM  YEG  \n",
       "DTYYYYMMDD  ...                                                                \n",
       "2015-01-05  ...  NaN  11.92  4.526  6.860  11.637  82.363  5.2  NaN  NaN  NaN  \n",
       "2015-01-06  ...  NaN  11.92  4.744  6.890  11.637  76.315  5.4  NaN  NaN  NaN  \n",
       "2015-01-07  ...  NaN  11.92  4.799  6.978  11.637  73.488  5.3  NaN  NaN  NaN  \n",
       "2015-01-08  ...  NaN  11.92  4.799  7.508  11.637  73.488  5.3  NaN  NaN  NaN  \n",
       "2015-01-09  ...  NaN  11.92  4.908  7.508  11.637  73.431  5.4  NaN  NaN  NaN  \n",
       "\n",
       "[5 rows x 750 columns]"
      ]
     },
     "execution_count": 12,
     "metadata": {},
     "output_type": "execute_result"
    }
   ],
   "source": [
    "import datetime\n",
    "start_date = datetime.date(2015, 1, 1)\n",
    "end_date = datetime.date(2018, 12, 31)\n",
    "data = data.loc[start_date:end_date]\n",
    "data.head()"
   ]
  },
  {
   "cell_type": "code",
   "execution_count": 13,
   "id": "8b9ab288",
   "metadata": {
    "scrolled": true
   },
   "outputs": [
    {
     "data": {
      "text/html": [
       "<h1>Clean Data</h1>\n"
      ],
      "text/plain": [
       "<IPython.core.display.HTML object>"
      ]
     },
     "metadata": {},
     "output_type": "display_data"
    }
   ],
   "source": [
    "%%HTML\n",
    "<h1>Clean Data</h1>"
   ]
  },
  {
   "cell_type": "code",
   "execution_count": 14,
   "id": "cfce3d74",
   "metadata": {},
   "outputs": [],
   "source": [
    "pd.set_option('display.precision', 3)"
   ]
  },
  {
   "cell_type": "code",
   "execution_count": 15,
   "id": "940c7158",
   "metadata": {},
   "outputs": [
    {
     "data": {
      "text/plain": [
       "True"
      ]
     },
     "execution_count": 15,
     "metadata": {},
     "output_type": "execute_result"
    }
   ],
   "source": [
    "#Check for missing values\n",
    "data.isnull().values.any()"
   ]
  },
  {
   "cell_type": "code",
   "execution_count": 16,
   "id": "bb1baf7e",
   "metadata": {
    "scrolled": false
   },
   "outputs": [
    {
     "data": {
      "text/plain": [
       "<AxesSubplot:>"
      ]
     },
     "execution_count": 16,
     "metadata": {},
     "output_type": "execute_result"
    },
    {
     "data": {
      "image/png": "[encoded data removed]",
      "text/plain": [
       "<Figure size 2500x1000 with 2 Axes>"
      ]
     },
     "metadata": {},
     "output_type": "display_data"
    }
   ],
   "source": [
    "#Plot the missing value matrix\n",
    "import missingno\n",
    "missingno.matrix(data)"
   ]
  },
  {
   "cell_type": "code",
   "execution_count": 17,
   "id": "29a684e4",
   "metadata": {},
   "outputs": [
    {
     "data": {
      "text/html": [
       "<h3>We shall remove all the columns with more than 20% of missing data</h3>\n"
      ],
      "text/plain": [
       "<IPython.core.display.HTML object>"
      ]
     },
     "metadata": {},
     "output_type": "display_data"
    }
   ],
   "source": [
    "%%HTML\n",
    "<h3>We shall remove all the columns with more than 20% of missing data</h3>"
   ]
  },
  {
   "cell_type": "code",
   "execution_count": 18,
   "id": "0075413d",
   "metadata": {},
   "outputs": [
    {
     "name": "stdout",
     "output_type": "stream",
     "text": [
      "Data Shape before cleaning = (999, 750)\n",
      "Data Shape after cleaning = (999, 556)\n"
     ]
    }
   ],
   "source": [
    "print('Data Shape before cleaning =', data.shape)\n",
    "\n",
    "missing_percentage = data.isnull().mean().sort_values(ascending=False)\n",
    "dropped_list = sorted(list(missing_percentage[missing_percentage > 0.2].index))\n",
    "data.drop(labels=dropped_list, axis=1, inplace=True)\n",
    "\n",
    "print('Data Shape after cleaning =', data.shape)"
   ]
  },
  {
   "cell_type": "code",
   "execution_count": 19,
   "id": "ba2c37e6",
   "metadata": {
    "scrolled": false
   },
   "outputs": [
    {
     "data": {
      "text/html": [
       "<div>\n",
       "<style scoped>\n",
       "    .dataframe tbody tr th:only-of-type {\n",
       "        vertical-align: middle;\n",
       "    }\n",
       "\n",
       "    .dataframe tbody tr th {\n",
       "        vertical-align: top;\n",
       "    }\n",
       "\n",
       "    .dataframe thead th {\n",
       "        text-align: right;\n",
       "    }\n",
       "</style>\n",
       "<table border=\"1\" class=\"dataframe\">\n",
       "  <thead>\n",
       "    <tr style=\"text-align: right;\">\n",
       "      <th>Ticker</th>\n",
       "      <th>AAA</th>\n",
       "      <th>AAM</th>\n",
       "      <th>ABT</th>\n",
       "      <th>ACB</th>\n",
       "      <th>ACC</th>\n",
       "      <th>ACL</th>\n",
       "      <th>ACM</th>\n",
       "      <th>ADC</th>\n",
       "      <th>AGM</th>\n",
       "      <th>AGR</th>\n",
       "      <th>...</th>\n",
       "      <th>VSH</th>\n",
       "      <th>VSI</th>\n",
       "      <th>VTB</th>\n",
       "      <th>VTH</th>\n",
       "      <th>VTL</th>\n",
       "      <th>VTO</th>\n",
       "      <th>VTV</th>\n",
       "      <th>VXB</th>\n",
       "      <th>WCS</th>\n",
       "      <th>WSS</th>\n",
       "    </tr>\n",
       "    <tr>\n",
       "      <th>DTYYYYMMDD</th>\n",
       "      <th></th>\n",
       "      <th></th>\n",
       "      <th></th>\n",
       "      <th></th>\n",
       "      <th></th>\n",
       "      <th></th>\n",
       "      <th></th>\n",
       "      <th></th>\n",
       "      <th></th>\n",
       "      <th></th>\n",
       "      <th></th>\n",
       "      <th></th>\n",
       "      <th></th>\n",
       "      <th></th>\n",
       "      <th></th>\n",
       "      <th></th>\n",
       "      <th></th>\n",
       "      <th></th>\n",
       "      <th></th>\n",
       "      <th></th>\n",
       "      <th></th>\n",
       "    </tr>\n",
       "  </thead>\n",
       "  <tbody>\n",
       "    <tr>\n",
       "      <th>2015-01-05</th>\n",
       "      <td>6.223</td>\n",
       "      <td>7.485</td>\n",
       "      <td>31.261</td>\n",
       "      <td>4.991</td>\n",
       "      <td>14.233</td>\n",
       "      <td>4.147</td>\n",
       "      <td>10.022</td>\n",
       "      <td>7.491</td>\n",
       "      <td>7.538</td>\n",
       "      <td>6.2</td>\n",
       "      <td>...</td>\n",
       "      <td>9.075</td>\n",
       "      <td>6.284</td>\n",
       "      <td>6.694</td>\n",
       "      <td>11.108</td>\n",
       "      <td>11.92</td>\n",
       "      <td>4.526</td>\n",
       "      <td>6.860</td>\n",
       "      <td>11.637</td>\n",
       "      <td>82.363</td>\n",
       "      <td>5.2</td>\n",
       "    </tr>\n",
       "    <tr>\n",
       "      <th>2015-01-06</th>\n",
       "      <td>6.314</td>\n",
       "      <td>7.433</td>\n",
       "      <td>31.261</td>\n",
       "      <td>5.056</td>\n",
       "      <td>13.758</td>\n",
       "      <td>4.147</td>\n",
       "      <td>10.022</td>\n",
       "      <td>7.325</td>\n",
       "      <td>7.538</td>\n",
       "      <td>6.2</td>\n",
       "      <td>...</td>\n",
       "      <td>9.142</td>\n",
       "      <td>5.895</td>\n",
       "      <td>6.527</td>\n",
       "      <td>11.326</td>\n",
       "      <td>11.92</td>\n",
       "      <td>4.744</td>\n",
       "      <td>6.890</td>\n",
       "      <td>11.637</td>\n",
       "      <td>76.315</td>\n",
       "      <td>5.4</td>\n",
       "    </tr>\n",
       "    <tr>\n",
       "      <th>2015-01-07</th>\n",
       "      <td>6.539</td>\n",
       "      <td>7.485</td>\n",
       "      <td>30.968</td>\n",
       "      <td>5.121</td>\n",
       "      <td>13.370</td>\n",
       "      <td>4.328</td>\n",
       "      <td>10.022</td>\n",
       "      <td>7.325</td>\n",
       "      <td>7.538</td>\n",
       "      <td>6.3</td>\n",
       "      <td>...</td>\n",
       "      <td>9.142</td>\n",
       "      <td>6.229</td>\n",
       "      <td>6.471</td>\n",
       "      <td>11.326</td>\n",
       "      <td>11.92</td>\n",
       "      <td>4.799</td>\n",
       "      <td>6.978</td>\n",
       "      <td>11.637</td>\n",
       "      <td>73.488</td>\n",
       "      <td>5.3</td>\n",
       "    </tr>\n",
       "    <tr>\n",
       "      <th>2015-01-08</th>\n",
       "      <td>6.404</td>\n",
       "      <td>7.537</td>\n",
       "      <td>32.137</td>\n",
       "      <td>5.154</td>\n",
       "      <td>13.370</td>\n",
       "      <td>4.328</td>\n",
       "      <td>10.022</td>\n",
       "      <td>7.325</td>\n",
       "      <td>7.210</td>\n",
       "      <td>6.3</td>\n",
       "      <td>...</td>\n",
       "      <td>9.009</td>\n",
       "      <td>5.839</td>\n",
       "      <td>6.917</td>\n",
       "      <td>11.326</td>\n",
       "      <td>11.92</td>\n",
       "      <td>4.799</td>\n",
       "      <td>7.508</td>\n",
       "      <td>11.637</td>\n",
       "      <td>73.488</td>\n",
       "      <td>5.3</td>\n",
       "    </tr>\n",
       "    <tr>\n",
       "      <th>2015-01-09</th>\n",
       "      <td>6.269</td>\n",
       "      <td>7.069</td>\n",
       "      <td>33.890</td>\n",
       "      <td>5.187</td>\n",
       "      <td>14.060</td>\n",
       "      <td>4.292</td>\n",
       "      <td>10.022</td>\n",
       "      <td>7.558</td>\n",
       "      <td>7.472</td>\n",
       "      <td>6.4</td>\n",
       "      <td>...</td>\n",
       "      <td>9.075</td>\n",
       "      <td>5.839</td>\n",
       "      <td>7.141</td>\n",
       "      <td>11.544</td>\n",
       "      <td>11.92</td>\n",
       "      <td>4.908</td>\n",
       "      <td>7.508</td>\n",
       "      <td>11.637</td>\n",
       "      <td>73.431</td>\n",
       "      <td>5.4</td>\n",
       "    </tr>\n",
       "  </tbody>\n",
       "</table>\n",
       "<p>5 rows × 556 columns</p>\n",
       "</div>"
      ],
      "text/plain": [
       "Ticker        AAA    AAM     ABT    ACB     ACC    ACL     ACM    ADC    AGM  \\\n",
       "DTYYYYMMDD                                                                     \n",
       "2015-01-05  6.223  7.485  31.261  4.991  14.233  4.147  10.022  7.491  7.538   \n",
       "2015-01-06  6.314  7.433  31.261  5.056  13.758  4.147  10.022  7.325  7.538   \n",
       "2015-01-07  6.539  7.485  30.968  5.121  13.370  4.328  10.022  7.325  7.538   \n",
       "2015-01-08  6.404  7.537  32.137  5.154  13.370  4.328  10.022  7.325  7.210   \n",
       "2015-01-09  6.269  7.069  33.890  5.187  14.060  4.292  10.022  7.558  7.472   \n",
       "\n",
       "Ticker      AGR  ...    VSH    VSI    VTB     VTH    VTL    VTO    VTV  \\\n",
       "DTYYYYMMDD       ...                                                     \n",
       "2015-01-05  6.2  ...  9.075  6.284  6.694  11.108  11.92  4.526  6.860   \n",
       "2015-01-06  6.2  ...  9.142  5.895  6.527  11.326  11.92  4.744  6.890   \n",
       "2015-01-07  6.3  ...  9.142  6.229  6.471  11.326  11.92  4.799  6.978   \n",
       "2015-01-08  6.3  ...  9.009  5.839  6.917  11.326  11.92  4.799  7.508   \n",
       "2015-01-09  6.4  ...  9.075  5.839  7.141  11.544  11.92  4.908  7.508   \n",
       "\n",
       "Ticker         VXB     WCS  WSS  \n",
       "DTYYYYMMDD                       \n",
       "2015-01-05  11.637  82.363  5.2  \n",
       "2015-01-06  11.637  76.315  5.4  \n",
       "2015-01-07  11.637  73.488  5.3  \n",
       "2015-01-08  11.637  73.488  5.3  \n",
       "2015-01-09  11.637  73.431  5.4  \n",
       "\n",
       "[5 rows x 556 columns]"
      ]
     },
     "execution_count": 19,
     "metadata": {},
     "output_type": "execute_result"
    }
   ],
   "source": [
    "#Fill the remaining missing values with already available values\n",
    "data = data.fillna(method='ffill')\n",
    "data = data.fillna(method='bfill')\n",
    "pricing = data.copy()\n",
    "data.head()"
   ]
  },
  {
   "cell_type": "code",
   "execution_count": 20,
   "id": "506ffa1f",
   "metadata": {
    "scrolled": false
   },
   "outputs": [
    {
     "name": "stdout",
     "output_type": "stream",
     "text": [
      "Ticker        AAA    AAM    ABT    ACB    ACC    ACL    ACM    ADC    AGM  \\\n",
      "DTYYYYMMDD                                                                  \n",
      "2015-01-06  0.015 -0.007  0.000  0.013 -0.033  0.000  0.000 -0.022  0.000   \n",
      "2015-01-07  0.036  0.007 -0.009  0.013 -0.028  0.044  0.000  0.000  0.000   \n",
      "2015-01-08 -0.021  0.007  0.038  0.006  0.000  0.000  0.000  0.000 -0.044   \n",
      "2015-01-09 -0.021 -0.062  0.055  0.006  0.052 -0.008  0.000  0.032  0.036   \n",
      "2015-01-12 -0.029  0.059 -0.034  0.013  0.000 -0.008  0.000  0.000  0.018   \n",
      "...           ...    ...    ...    ...    ...    ...    ...    ...    ...   \n",
      "2018-12-24 -0.023  0.004  0.000 -0.014  0.000 -0.052  0.000  0.097  0.036   \n",
      "2018-12-25 -0.020  0.011 -0.052 -0.007  0.000 -0.063  0.000  0.000 -0.018   \n",
      "2018-12-26  0.000  0.008 -0.029 -0.003  0.000  0.005  0.143  0.000 -0.027   \n",
      "2018-12-27  0.028 -0.015  0.070  0.024  0.000  0.035 -0.125  0.000  0.000   \n",
      "2018-12-28 -0.013  0.015 -0.050  0.007  0.000  0.000  0.000  0.000  0.000   \n",
      "\n",
      "Ticker        AGR  ...    VSH    VSI    VTB    VTH  VTL    VTO    VTV  VXB  \\\n",
      "DTYYYYMMDD         ...                                                       \n",
      "2015-01-06  0.000  ...  0.007 -0.062 -0.025  0.020  0.0  0.048  0.004  0.0   \n",
      "2015-01-07  0.016  ...  0.000  0.057 -0.009  0.000  0.0  0.012  0.013  0.0   \n",
      "2015-01-08  0.000  ... -0.015 -0.063  0.069  0.000  0.0  0.000  0.076  0.0   \n",
      "2015-01-09  0.016  ...  0.007  0.000  0.032  0.019  0.0  0.023  0.000  0.0   \n",
      "2015-01-12 -0.016  ... -0.007 -0.067  0.000 -0.050  0.0 -0.033  0.000  0.0   \n",
      "...           ...  ...    ...    ...    ...    ...  ...    ...    ...  ...   \n",
      "2018-12-24 -0.024  ... -0.012  0.008  0.047  0.000  0.0  0.004  0.000  0.0   \n",
      "2018-12-25 -0.031  ...  0.006  0.029 -0.003  0.000  0.0  0.027  0.000  0.0   \n",
      "2018-12-26  0.064  ...  0.000  0.020  0.003  0.000  0.0 -0.045 -0.019  0.0   \n",
      "2018-12-27  0.033  ...  0.006  0.020 -0.011  0.000  0.0  0.014  0.039  0.0   \n",
      "2018-12-28 -0.003  ... -0.015 -0.015  0.023  0.000  0.0  0.007 -0.009  0.0   \n",
      "\n",
      "Ticker            WCS    WSS  \n",
      "DTYYYYMMDD                    \n",
      "2015-01-06 -7.343e-02  0.038  \n",
      "2015-01-07 -3.704e-02 -0.019  \n",
      "2015-01-08  0.000e+00  0.000  \n",
      "2015-01-09 -7.756e-04  0.019  \n",
      "2015-01-12 -1.463e-02 -0.037  \n",
      "...               ...    ...  \n",
      "2018-12-24  0.000e+00  0.000  \n",
      "2018-12-25 -9.141e-03 -0.034  \n",
      "2018-12-26  0.000e+00  0.036  \n",
      "2018-12-27  2.308e-02  0.000  \n",
      "2018-12-28  0.000e+00  0.034  \n",
      "\n",
      "[998 rows x 556 columns]\n"
     ]
    }
   ],
   "source": [
    "import numpy as np\n",
    "\n",
    "#Calculate returns and create a data frame\n",
    "returns = data.pct_change()\n",
    "\n",
    "returns.replace([np.inf, -np.inf], np.nan, inplace=True)\n",
    "returns.dropna(inplace=True)\n",
    "\n",
    "print(returns)\n"
   ]
  },
  {
   "cell_type": "code",
   "execution_count": 21,
   "id": "12e4f81f",
   "metadata": {},
   "outputs": [
    {
     "data": {
      "text/html": [
       "<div>\n",
       "<style scoped>\n",
       "    .dataframe tbody tr th:only-of-type {\n",
       "        vertical-align: middle;\n",
       "    }\n",
       "\n",
       "    .dataframe tbody tr th {\n",
       "        vertical-align: top;\n",
       "    }\n",
       "\n",
       "    .dataframe thead th {\n",
       "        text-align: right;\n",
       "    }\n",
       "</style>\n",
       "<table border=\"1\" class=\"dataframe\">\n",
       "  <thead>\n",
       "    <tr style=\"text-align: right;\">\n",
       "      <th>Ticker</th>\n",
       "      <th>AAA</th>\n",
       "      <th>AAM</th>\n",
       "      <th>ABT</th>\n",
       "      <th>ACB</th>\n",
       "      <th>ACC</th>\n",
       "      <th>ACL</th>\n",
       "      <th>ACM</th>\n",
       "      <th>ADC</th>\n",
       "      <th>AGM</th>\n",
       "      <th>AGR</th>\n",
       "      <th>...</th>\n",
       "      <th>VSH</th>\n",
       "      <th>VSI</th>\n",
       "      <th>VTB</th>\n",
       "      <th>VTH</th>\n",
       "      <th>VTL</th>\n",
       "      <th>VTO</th>\n",
       "      <th>VTV</th>\n",
       "      <th>VXB</th>\n",
       "      <th>WCS</th>\n",
       "      <th>WSS</th>\n",
       "    </tr>\n",
       "  </thead>\n",
       "  <tbody>\n",
       "    <tr>\n",
       "      <th>0</th>\n",
       "      <td>0.015</td>\n",
       "      <td>-0.007</td>\n",
       "      <td>0.000</td>\n",
       "      <td>0.013</td>\n",
       "      <td>-0.033</td>\n",
       "      <td>0.000</td>\n",
       "      <td>0.0</td>\n",
       "      <td>-0.022</td>\n",
       "      <td>0.000</td>\n",
       "      <td>0.000</td>\n",
       "      <td>...</td>\n",
       "      <td>0.007</td>\n",
       "      <td>-0.062</td>\n",
       "      <td>-0.025</td>\n",
       "      <td>0.020</td>\n",
       "      <td>0.0</td>\n",
       "      <td>0.048</td>\n",
       "      <td>0.004</td>\n",
       "      <td>0.0</td>\n",
       "      <td>-7.343e-02</td>\n",
       "      <td>0.038</td>\n",
       "    </tr>\n",
       "    <tr>\n",
       "      <th>1</th>\n",
       "      <td>0.036</td>\n",
       "      <td>0.007</td>\n",
       "      <td>-0.009</td>\n",
       "      <td>0.013</td>\n",
       "      <td>-0.028</td>\n",
       "      <td>0.044</td>\n",
       "      <td>0.0</td>\n",
       "      <td>0.000</td>\n",
       "      <td>0.000</td>\n",
       "      <td>0.016</td>\n",
       "      <td>...</td>\n",
       "      <td>0.000</td>\n",
       "      <td>0.057</td>\n",
       "      <td>-0.009</td>\n",
       "      <td>0.000</td>\n",
       "      <td>0.0</td>\n",
       "      <td>0.012</td>\n",
       "      <td>0.013</td>\n",
       "      <td>0.0</td>\n",
       "      <td>-3.704e-02</td>\n",
       "      <td>-0.019</td>\n",
       "    </tr>\n",
       "    <tr>\n",
       "      <th>2</th>\n",
       "      <td>-0.021</td>\n",
       "      <td>0.007</td>\n",
       "      <td>0.038</td>\n",
       "      <td>0.006</td>\n",
       "      <td>0.000</td>\n",
       "      <td>0.000</td>\n",
       "      <td>0.0</td>\n",
       "      <td>0.000</td>\n",
       "      <td>-0.044</td>\n",
       "      <td>0.000</td>\n",
       "      <td>...</td>\n",
       "      <td>-0.015</td>\n",
       "      <td>-0.063</td>\n",
       "      <td>0.069</td>\n",
       "      <td>0.000</td>\n",
       "      <td>0.0</td>\n",
       "      <td>0.000</td>\n",
       "      <td>0.076</td>\n",
       "      <td>0.0</td>\n",
       "      <td>0.000e+00</td>\n",
       "      <td>0.000</td>\n",
       "    </tr>\n",
       "    <tr>\n",
       "      <th>3</th>\n",
       "      <td>-0.021</td>\n",
       "      <td>-0.062</td>\n",
       "      <td>0.055</td>\n",
       "      <td>0.006</td>\n",
       "      <td>0.052</td>\n",
       "      <td>-0.008</td>\n",
       "      <td>0.0</td>\n",
       "      <td>0.032</td>\n",
       "      <td>0.036</td>\n",
       "      <td>0.016</td>\n",
       "      <td>...</td>\n",
       "      <td>0.007</td>\n",
       "      <td>0.000</td>\n",
       "      <td>0.032</td>\n",
       "      <td>0.019</td>\n",
       "      <td>0.0</td>\n",
       "      <td>0.023</td>\n",
       "      <td>0.000</td>\n",
       "      <td>0.0</td>\n",
       "      <td>-7.756e-04</td>\n",
       "      <td>0.019</td>\n",
       "    </tr>\n",
       "    <tr>\n",
       "      <th>4</th>\n",
       "      <td>-0.029</td>\n",
       "      <td>0.059</td>\n",
       "      <td>-0.034</td>\n",
       "      <td>0.013</td>\n",
       "      <td>0.000</td>\n",
       "      <td>-0.008</td>\n",
       "      <td>0.0</td>\n",
       "      <td>0.000</td>\n",
       "      <td>0.018</td>\n",
       "      <td>-0.016</td>\n",
       "      <td>...</td>\n",
       "      <td>-0.007</td>\n",
       "      <td>-0.067</td>\n",
       "      <td>0.000</td>\n",
       "      <td>-0.050</td>\n",
       "      <td>0.0</td>\n",
       "      <td>-0.033</td>\n",
       "      <td>0.000</td>\n",
       "      <td>0.0</td>\n",
       "      <td>-1.463e-02</td>\n",
       "      <td>-0.037</td>\n",
       "    </tr>\n",
       "  </tbody>\n",
       "</table>\n",
       "<p>5 rows × 556 columns</p>\n",
       "</div>"
      ],
      "text/plain": [
       "Ticker    AAA    AAM    ABT    ACB    ACC    ACL  ACM    ADC    AGM    AGR  \\\n",
       "0       0.015 -0.007  0.000  0.013 -0.033  0.000  0.0 -0.022  0.000  0.000   \n",
       "1       0.036  0.007 -0.009  0.013 -0.028  0.044  0.0  0.000  0.000  0.016   \n",
       "2      -0.021  0.007  0.038  0.006  0.000  0.000  0.0  0.000 -0.044  0.000   \n",
       "3      -0.021 -0.062  0.055  0.006  0.052 -0.008  0.0  0.032  0.036  0.016   \n",
       "4      -0.029  0.059 -0.034  0.013  0.000 -0.008  0.0  0.000  0.018 -0.016   \n",
       "\n",
       "Ticker  ...    VSH    VSI    VTB    VTH  VTL    VTO    VTV  VXB        WCS  \\\n",
       "0       ...  0.007 -0.062 -0.025  0.020  0.0  0.048  0.004  0.0 -7.343e-02   \n",
       "1       ...  0.000  0.057 -0.009  0.000  0.0  0.012  0.013  0.0 -3.704e-02   \n",
       "2       ... -0.015 -0.063  0.069  0.000  0.0  0.000  0.076  0.0  0.000e+00   \n",
       "3       ...  0.007  0.000  0.032  0.019  0.0  0.023  0.000  0.0 -7.756e-04   \n",
       "4       ... -0.007 -0.067  0.000 -0.050  0.0 -0.033  0.000  0.0 -1.463e-02   \n",
       "\n",
       "Ticker    WSS  \n",
       "0       0.038  \n",
       "1      -0.019  \n",
       "2       0.000  \n",
       "3       0.019  \n",
       "4      -0.037  \n",
       "\n",
       "[5 rows x 556 columns]"
      ]
     },
     "execution_count": 21,
     "metadata": {},
     "output_type": "execute_result"
    }
   ],
   "source": [
    "returns = returns.reset_index()\n",
    "returns = returns.drop(['DTYYYYMMDD'], axis=1)\n",
    "returns.head()"
   ]
  },
  {
   "cell_type": "code",
   "execution_count": 22,
   "id": "6fd1d88b",
   "metadata": {
    "scrolled": true
   },
   "outputs": [
    {
     "data": {
      "text/html": [
       "<h1>Customized Features</h1>\n"
      ],
      "text/plain": [
       "<IPython.core.display.HTML object>"
      ]
     },
     "metadata": {},
     "output_type": "display_data"
    }
   ],
   "source": [
    "%%HTML\n",
    "<h1>Customized Features</h1>"
   ]
  },
  {
   "cell_type": "code",
   "execution_count": 23,
   "id": "2266acbb",
   "metadata": {},
   "outputs": [
    {
     "data": {
      "text/html": [
       "<h3>We will be adding some fundamental values as well to make the model more robust</h3>\n"
      ],
      "text/plain": [
       "<IPython.core.display.HTML object>"
      ]
     },
     "metadata": {},
     "output_type": "display_data"
    }
   ],
   "source": [
    "%%HTML\n",
    "<h3>We will be adding some fundamental values as well to make the model more robust</h3>"
   ]
  },
  {
   "cell_type": "code",
   "execution_count": 24,
   "id": "ea67de2a",
   "metadata": {},
   "outputs": [
    {
     "data": {
      "text/html": [
       "<div>\n",
       "<style scoped>\n",
       "    .dataframe tbody tr th:only-of-type {\n",
       "        vertical-align: middle;\n",
       "    }\n",
       "\n",
       "    .dataframe tbody tr th {\n",
       "        vertical-align: top;\n",
       "    }\n",
       "\n",
       "    .dataframe thead th {\n",
       "        text-align: right;\n",
       "    }\n",
       "</style>\n",
       "<table border=\"1\" class=\"dataframe\">\n",
       "  <thead>\n",
       "    <tr style=\"text-align: right;\">\n",
       "      <th></th>\n",
       "      <th>mean returns</th>\n",
       "      <th>volatility</th>\n",
       "    </tr>\n",
       "    <tr>\n",
       "      <th>Ticker</th>\n",
       "      <th></th>\n",
       "      <th></th>\n",
       "    </tr>\n",
       "  </thead>\n",
       "  <tbody>\n",
       "    <tr>\n",
       "      <th>AAA</th>\n",
       "      <td>1.477</td>\n",
       "      <td>0.904</td>\n",
       "    </tr>\n",
       "    <tr>\n",
       "      <th>AAM</th>\n",
       "      <td>0.890</td>\n",
       "      <td>1.086</td>\n",
       "    </tr>\n",
       "    <tr>\n",
       "      <th>ABT</th>\n",
       "      <td>0.497</td>\n",
       "      <td>0.858</td>\n",
       "    </tr>\n",
       "    <tr>\n",
       "      <th>ACB</th>\n",
       "      <td>1.772</td>\n",
       "      <td>0.727</td>\n",
       "    </tr>\n",
       "    <tr>\n",
       "      <th>ACC</th>\n",
       "      <td>0.279</td>\n",
       "      <td>0.879</td>\n",
       "    </tr>\n",
       "  </tbody>\n",
       "</table>\n",
       "</div>"
      ],
      "text/plain": [
       "        mean returns  volatility\n",
       "Ticker                          \n",
       "AAA            1.477       0.904\n",
       "AAM            0.890       1.086\n",
       "ABT            0.497       0.858\n",
       "ACB            1.772       0.727\n",
       "ACC            0.279       0.879"
      ]
     },
     "execution_count": 24,
     "metadata": {},
     "output_type": "execute_result"
    }
   ],
   "source": [
    "import numpy as np\n",
    "\n",
    "#Calculate returns and create a data frame\n",
    "mean_returns = data.pct_change().mean()*1459 \n",
    "mean_returns = pd.DataFrame(mean_returns)\n",
    "mean_returns.columns = ['mean returns']\n",
    "\n",
    "#Calculate the volatility\n",
    "mean_returns['volatility'] = data.pct_change().std()*np.sqrt(1459)\n",
    "mean_returns.head()"
   ]
  },
  {
   "cell_type": "code",
   "execution_count": 25,
   "id": "f062daab",
   "metadata": {
    "scrolled": false
   },
   "outputs": [
    {
     "data": {
      "text/html": [
       "<div>\n",
       "<style scoped>\n",
       "    .dataframe tbody tr th:only-of-type {\n",
       "        vertical-align: middle;\n",
       "    }\n",
       "\n",
       "    .dataframe tbody tr th {\n",
       "        vertical-align: top;\n",
       "    }\n",
       "\n",
       "    .dataframe thead th {\n",
       "        text-align: right;\n",
       "    }\n",
       "</style>\n",
       "<table border=\"1\" class=\"dataframe\">\n",
       "  <thead>\n",
       "    <tr style=\"text-align: right;\">\n",
       "      <th></th>\n",
       "      <th>Industry_aerospace_products_parts</th>\n",
       "      <th>Industry_alcoholic_beverages_drinks</th>\n",
       "      <th>Industry_aluminum</th>\n",
       "      <th>Industry_audio_video_equipment</th>\n",
       "      <th>Industry_banking</th>\n",
       "      <th>Industry_biotechnology</th>\n",
       "      <th>Industry_building_materials_products</th>\n",
       "      <th>Industry_chemicals</th>\n",
       "      <th>Industry_clothing</th>\n",
       "      <th>Industry_clothing_retail</th>\n",
       "      <th>...</th>\n",
       "      <th>Industry_technical_services</th>\n",
       "      <th>Industry_tires</th>\n",
       "      <th>Industry_tobacco</th>\n",
       "      <th>Industry_tourism</th>\n",
       "      <th>Industry_transportation_services</th>\n",
       "      <th>Industry_trucking</th>\n",
       "      <th>Industry_upstream_oil_gas</th>\n",
       "      <th>Industry_water_transport_shipping</th>\n",
       "      <th>Industry_water_utilities</th>\n",
       "      <th>Industry_wholesalers</th>\n",
       "    </tr>\n",
       "    <tr>\n",
       "      <th>Ticker</th>\n",
       "      <th></th>\n",
       "      <th></th>\n",
       "      <th></th>\n",
       "      <th></th>\n",
       "      <th></th>\n",
       "      <th></th>\n",
       "      <th></th>\n",
       "      <th></th>\n",
       "      <th></th>\n",
       "      <th></th>\n",
       "      <th></th>\n",
       "      <th></th>\n",
       "      <th></th>\n",
       "      <th></th>\n",
       "      <th></th>\n",
       "      <th></th>\n",
       "      <th></th>\n",
       "      <th></th>\n",
       "      <th></th>\n",
       "      <th></th>\n",
       "      <th></th>\n",
       "    </tr>\n",
       "  </thead>\n",
       "  <tbody>\n",
       "    <tr>\n",
       "      <th>AAA</th>\n",
       "      <td>0</td>\n",
       "      <td>0</td>\n",
       "      <td>0</td>\n",
       "      <td>0</td>\n",
       "      <td>0</td>\n",
       "      <td>0</td>\n",
       "      <td>0</td>\n",
       "      <td>0</td>\n",
       "      <td>0</td>\n",
       "      <td>0</td>\n",
       "      <td>...</td>\n",
       "      <td>0</td>\n",
       "      <td>0</td>\n",
       "      <td>0</td>\n",
       "      <td>0</td>\n",
       "      <td>0</td>\n",
       "      <td>0</td>\n",
       "      <td>0</td>\n",
       "      <td>0</td>\n",
       "      <td>0</td>\n",
       "      <td>0</td>\n",
       "    </tr>\n",
       "    <tr>\n",
       "      <th>AAM</th>\n",
       "      <td>0</td>\n",
       "      <td>0</td>\n",
       "      <td>0</td>\n",
       "      <td>0</td>\n",
       "      <td>0</td>\n",
       "      <td>0</td>\n",
       "      <td>0</td>\n",
       "      <td>0</td>\n",
       "      <td>0</td>\n",
       "      <td>0</td>\n",
       "      <td>...</td>\n",
       "      <td>0</td>\n",
       "      <td>0</td>\n",
       "      <td>0</td>\n",
       "      <td>0</td>\n",
       "      <td>0</td>\n",
       "      <td>0</td>\n",
       "      <td>0</td>\n",
       "      <td>0</td>\n",
       "      <td>0</td>\n",
       "      <td>0</td>\n",
       "    </tr>\n",
       "    <tr>\n",
       "      <th>ABT</th>\n",
       "      <td>0</td>\n",
       "      <td>0</td>\n",
       "      <td>0</td>\n",
       "      <td>0</td>\n",
       "      <td>0</td>\n",
       "      <td>0</td>\n",
       "      <td>0</td>\n",
       "      <td>0</td>\n",
       "      <td>0</td>\n",
       "      <td>0</td>\n",
       "      <td>...</td>\n",
       "      <td>0</td>\n",
       "      <td>0</td>\n",
       "      <td>0</td>\n",
       "      <td>0</td>\n",
       "      <td>0</td>\n",
       "      <td>0</td>\n",
       "      <td>0</td>\n",
       "      <td>0</td>\n",
       "      <td>0</td>\n",
       "      <td>0</td>\n",
       "    </tr>\n",
       "    <tr>\n",
       "      <th>ACB</th>\n",
       "      <td>0</td>\n",
       "      <td>0</td>\n",
       "      <td>0</td>\n",
       "      <td>0</td>\n",
       "      <td>1</td>\n",
       "      <td>0</td>\n",
       "      <td>0</td>\n",
       "      <td>0</td>\n",
       "      <td>0</td>\n",
       "      <td>0</td>\n",
       "      <td>...</td>\n",
       "      <td>0</td>\n",
       "      <td>0</td>\n",
       "      <td>0</td>\n",
       "      <td>0</td>\n",
       "      <td>0</td>\n",
       "      <td>0</td>\n",
       "      <td>0</td>\n",
       "      <td>0</td>\n",
       "      <td>0</td>\n",
       "      <td>0</td>\n",
       "    </tr>\n",
       "    <tr>\n",
       "      <th>ACC</th>\n",
       "      <td>0</td>\n",
       "      <td>0</td>\n",
       "      <td>0</td>\n",
       "      <td>0</td>\n",
       "      <td>0</td>\n",
       "      <td>0</td>\n",
       "      <td>1</td>\n",
       "      <td>0</td>\n",
       "      <td>0</td>\n",
       "      <td>0</td>\n",
       "      <td>...</td>\n",
       "      <td>0</td>\n",
       "      <td>0</td>\n",
       "      <td>0</td>\n",
       "      <td>0</td>\n",
       "      <td>0</td>\n",
       "      <td>0</td>\n",
       "      <td>0</td>\n",
       "      <td>0</td>\n",
       "      <td>0</td>\n",
       "      <td>0</td>\n",
       "    </tr>\n",
       "  </tbody>\n",
       "</table>\n",
       "<p>5 rows × 75 columns</p>\n",
       "</div>"
      ],
      "text/plain": [
       "        Industry_aerospace_products_parts  \\\n",
       "Ticker                                      \n",
       "AAA                                     0   \n",
       "AAM                                     0   \n",
       "ABT                                     0   \n",
       "ACB                                     0   \n",
       "ACC                                     0   \n",
       "\n",
       "        Industry_alcoholic_beverages_drinks  Industry_aluminum  \\\n",
       "Ticker                                                           \n",
       "AAA                                       0                  0   \n",
       "AAM                                       0                  0   \n",
       "ABT                                       0                  0   \n",
       "ACB                                       0                  0   \n",
       "ACC                                       0                  0   \n",
       "\n",
       "        Industry_audio_video_equipment  Industry_banking  \\\n",
       "Ticker                                                     \n",
       "AAA                                  0                 0   \n",
       "AAM                                  0                 0   \n",
       "ABT                                  0                 0   \n",
       "ACB                                  0                 1   \n",
       "ACC                                  0                 0   \n",
       "\n",
       "        Industry_biotechnology  Industry_building_materials_products  \\\n",
       "Ticker                                                                 \n",
       "AAA                          0                                     0   \n",
       "AAM                          0                                     0   \n",
       "ABT                          0                                     0   \n",
       "ACB                          0                                     0   \n",
       "ACC                          0                                     1   \n",
       "\n",
       "        Industry_chemicals  Industry_clothing  Industry_clothing_retail  ...  \\\n",
       "Ticker                                                                   ...   \n",
       "AAA                      0                  0                         0  ...   \n",
       "AAM                      0                  0                         0  ...   \n",
       "ABT                      0                  0                         0  ...   \n",
       "ACB                      0                  0                         0  ...   \n",
       "ACC                      0                  0                         0  ...   \n",
       "\n",
       "        Industry_technical_services  Industry_tires  Industry_tobacco  \\\n",
       "Ticker                                                                  \n",
       "AAA                               0               0                 0   \n",
       "AAM                               0               0                 0   \n",
       "ABT                               0               0                 0   \n",
       "ACB                               0               0                 0   \n",
       "ACC                               0               0                 0   \n",
       "\n",
       "        Industry_tourism  Industry_transportation_services  Industry_trucking  \\\n",
       "Ticker                                                                          \n",
       "AAA                    0                                 0                  0   \n",
       "AAM                    0                                 0                  0   \n",
       "ABT                    0                                 0                  0   \n",
       "ACB                    0                                 0                  0   \n",
       "ACC                    0                                 0                  0   \n",
       "\n",
       "        Industry_upstream_oil_gas  Industry_water_transport_shipping  \\\n",
       "Ticker                                                                 \n",
       "AAA                             0                                  0   \n",
       "AAM                             0                                  0   \n",
       "ABT                             0                                  0   \n",
       "ACB                             0                                  0   \n",
       "ACC                             0                                  0   \n",
       "\n",
       "        Industry_water_utilities  Industry_wholesalers  \n",
       "Ticker                                                  \n",
       "AAA                            0                     0  \n",
       "AAM                            0                     0  \n",
       "ABT                            0                     0  \n",
       "ACB                            0                     0  \n",
       "ACC                            0                     0  \n",
       "\n",
       "[5 rows x 75 columns]"
      ]
     },
     "execution_count": 25,
     "metadata": {},
     "output_type": "execute_result"
    }
   ],
   "source": [
    "#Adding the industry\n",
    "industry = pd.read_excel('./data_crawler/industry.xlsx', index_col=0)\n",
    "industry_filter = industry\n",
    "for i in industry.index:\n",
    "    if i not in mean_returns.index:\n",
    "        industry_filter = industry_filter.drop(i)\n",
    "\n",
    "industry1 = pd.get_dummies(industry_filter, columns = ['Industry'])\n",
    "industry1.head()"
   ]
  },
  {
   "cell_type": "code",
   "execution_count": 27,
   "id": "23197d09",
   "metadata": {},
   "outputs": [
    {
     "data": {
      "text/html": [
       "<div>\n",
       "<style scoped>\n",
       "    .dataframe tbody tr th:only-of-type {\n",
       "        vertical-align: middle;\n",
       "    }\n",
       "\n",
       "    .dataframe tbody tr th {\n",
       "        vertical-align: top;\n",
       "    }\n",
       "\n",
       "    .dataframe thead th {\n",
       "        text-align: right;\n",
       "    }\n",
       "</style>\n",
       "<table border=\"1\" class=\"dataframe\">\n",
       "  <thead>\n",
       "    <tr style=\"text-align: right;\">\n",
       "      <th></th>\n",
       "      <th>Vốn hóa thị trường[Năm: 2022, ĐVT: đồng]</th>\n",
       "      <th>Category_Large Cap</th>\n",
       "      <th>Category_Medium Cap</th>\n",
       "      <th>Category_Micro Cap</th>\n",
       "      <th>Category_Small Cap</th>\n",
       "    </tr>\n",
       "    <tr>\n",
       "      <th>Mã CK</th>\n",
       "      <th></th>\n",
       "      <th></th>\n",
       "      <th></th>\n",
       "      <th></th>\n",
       "      <th></th>\n",
       "    </tr>\n",
       "  </thead>\n",
       "  <tbody>\n",
       "    <tr>\n",
       "      <th>AAA</th>\n",
       "      <td>2.611e+12</td>\n",
       "      <td>0</td>\n",
       "      <td>1</td>\n",
       "      <td>0</td>\n",
       "      <td>0</td>\n",
       "    </tr>\n",
       "    <tr>\n",
       "      <th>AAM</th>\n",
       "      <td>1.197e+11</td>\n",
       "      <td>0</td>\n",
       "      <td>0</td>\n",
       "      <td>1</td>\n",
       "      <td>0</td>\n",
       "    </tr>\n",
       "    <tr>\n",
       "      <th>ABT</th>\n",
       "      <td>4.087e+11</td>\n",
       "      <td>0</td>\n",
       "      <td>0</td>\n",
       "      <td>0</td>\n",
       "      <td>1</td>\n",
       "    </tr>\n",
       "    <tr>\n",
       "      <th>ACB</th>\n",
       "      <td>7.397e+13</td>\n",
       "      <td>1</td>\n",
       "      <td>0</td>\n",
       "      <td>0</td>\n",
       "      <td>0</td>\n",
       "    </tr>\n",
       "    <tr>\n",
       "      <th>ACC</th>\n",
       "      <td>1.176e+12</td>\n",
       "      <td>0</td>\n",
       "      <td>0</td>\n",
       "      <td>0</td>\n",
       "      <td>1</td>\n",
       "    </tr>\n",
       "  </tbody>\n",
       "</table>\n",
       "</div>"
      ],
      "text/plain": [
       "       Vốn hóa thị trường[Năm: 2022, ĐVT: đồng]  Category_Large Cap  \\\n",
       "Mã CK                                                                 \n",
       "AAA                                   2.611e+12                   0   \n",
       "AAM                                   1.197e+11                   0   \n",
       "ABT                                   4.087e+11                   0   \n",
       "ACB                                   7.397e+13                   1   \n",
       "ACC                                   1.176e+12                   0   \n",
       "\n",
       "       Category_Medium Cap  Category_Micro Cap  Category_Small Cap  \n",
       "Mã CK                                                               \n",
       "AAA                      1                   0                   0  \n",
       "AAM                      0                   1                   0  \n",
       "ABT                      0                   0                   1  \n",
       "ACB                      0                   0                   0  \n",
       "ACC                      0                   0                   1  "
      ]
     },
     "execution_count": 27,
     "metadata": {},
     "output_type": "execute_result"
    }
   ],
   "source": [
    "#Adding the industry\n",
    "marketcap = pd.read_excel('./data_crawler/MarketCap.xlsx', index_col=0)\n",
    "marketcap_filter = marketcap\n",
    "for i in marketcap.index:\n",
    "    if i not in mean_returns.index:\n",
    "        marketcap_filter = marketcap_filter.drop(i)\n",
    "marketcap_filter.drop(columns = ['Vốn hóa thị trường[Năm: 2022, ĐVT: đồng]'])\n",
    "marketcap1 = pd.get_dummies(marketcap_filter, columns = ['Category'])\n",
    "marketcap1.head()"
   ]
  },
  {
   "cell_type": "code",
   "execution_count": 28,
   "id": "0a8bea75",
   "metadata": {},
   "outputs": [
    {
     "data": {
      "text/plain": [
       "PCA(n_components=5)"
      ]
     },
     "execution_count": 28,
     "metadata": {},
     "output_type": "execute_result"
    }
   ],
   "source": [
    "# returns_trans = returns.transpose()\n",
    "# Importing PCA\n",
    "from sklearn.decomposition import PCA\n",
    "  \n",
    "# Let's say, components = 5\n",
    "N_PRIN_COMPONENTS = 5\n",
    "pca = PCA(n_components=N_PRIN_COMPONENTS)\n",
    "pca.fit(returns)"
   ]
  },
  {
   "cell_type": "code",
   "execution_count": 29,
   "id": "72ceffd4",
   "metadata": {
    "scrolled": false
   },
   "outputs": [
    {
     "ename": "ValueError",
     "evalue": "all the input array dimensions for the concatenation axis must match exactly, but along dimension 0, the array at index 0 has size 556 and the array at index 3 has size 534",
     "output_type": "error",
     "traceback": [
      "\u001b[1;31m---------------------------------------------------------------------------\u001b[0m",
      "\u001b[1;31mValueError\u001b[0m                                Traceback (most recent call last)",
      "\u001b[1;32m~\\AppData\\Local\\Temp\\ipykernel_10140\\4092526098.py\u001b[0m in \u001b[0;36m<module>\u001b[1;34m\u001b[0m\n\u001b[0;32m      1\u001b[0m \u001b[1;31m# X = np.hstack((returns_trans, returns1, industry1))\u001b[0m\u001b[1;33m\u001b[0m\u001b[1;33m\u001b[0m\u001b[0m\n\u001b[1;32m----> 2\u001b[1;33m \u001b[0mX\u001b[0m \u001b[1;33m=\u001b[0m \u001b[0mnp\u001b[0m\u001b[1;33m.\u001b[0m\u001b[0mhstack\u001b[0m\u001b[1;33m(\u001b[0m\u001b[1;33m(\u001b[0m\u001b[0mpca\u001b[0m\u001b[1;33m.\u001b[0m\u001b[0mcomponents_\u001b[0m\u001b[1;33m.\u001b[0m\u001b[0mT\u001b[0m\u001b[1;33m,\u001b[0m \u001b[0mmean_returns\u001b[0m\u001b[1;33m,\u001b[0m \u001b[0mindustry1\u001b[0m\u001b[1;33m,\u001b[0m \u001b[0mmarketcap1\u001b[0m\u001b[1;33m)\u001b[0m\u001b[1;33m)\u001b[0m\u001b[1;33m\u001b[0m\u001b[1;33m\u001b[0m\u001b[0m\n\u001b[0m\u001b[0;32m      3\u001b[0m \u001b[0mprint\u001b[0m\u001b[1;33m(\u001b[0m\u001b[0mX\u001b[0m\u001b[1;33m)\u001b[0m\u001b[1;33m\u001b[0m\u001b[1;33m\u001b[0m\u001b[0m\n",
      "\u001b[1;32m<__array_function__ internals>\u001b[0m in \u001b[0;36mhstack\u001b[1;34m(*args, **kwargs)\u001b[0m\n",
      "\u001b[1;32m~\\anaconda3\\lib\\site-packages\\numpy\\core\\shape_base.py\u001b[0m in \u001b[0;36mhstack\u001b[1;34m(tup)\u001b[0m\n\u001b[0;32m    343\u001b[0m         \u001b[1;32mreturn\u001b[0m \u001b[0m_nx\u001b[0m\u001b[1;33m.\u001b[0m\u001b[0mconcatenate\u001b[0m\u001b[1;33m(\u001b[0m\u001b[0marrs\u001b[0m\u001b[1;33m,\u001b[0m \u001b[1;36m0\u001b[0m\u001b[1;33m)\u001b[0m\u001b[1;33m\u001b[0m\u001b[1;33m\u001b[0m\u001b[0m\n\u001b[0;32m    344\u001b[0m     \u001b[1;32melse\u001b[0m\u001b[1;33m:\u001b[0m\u001b[1;33m\u001b[0m\u001b[1;33m\u001b[0m\u001b[0m\n\u001b[1;32m--> 345\u001b[1;33m         \u001b[1;32mreturn\u001b[0m \u001b[0m_nx\u001b[0m\u001b[1;33m.\u001b[0m\u001b[0mconcatenate\u001b[0m\u001b[1;33m(\u001b[0m\u001b[0marrs\u001b[0m\u001b[1;33m,\u001b[0m \u001b[1;36m1\u001b[0m\u001b[1;33m)\u001b[0m\u001b[1;33m\u001b[0m\u001b[1;33m\u001b[0m\u001b[0m\n\u001b[0m\u001b[0;32m    346\u001b[0m \u001b[1;33m\u001b[0m\u001b[0m\n\u001b[0;32m    347\u001b[0m \u001b[1;33m\u001b[0m\u001b[0m\n",
      "\u001b[1;32m<__array_function__ internals>\u001b[0m in \u001b[0;36mconcatenate\u001b[1;34m(*args, **kwargs)\u001b[0m\n",
      "\u001b[1;31mValueError\u001b[0m: all the input array dimensions for the concatenation axis must match exactly, but along dimension 0, the array at index 0 has size 556 and the array at index 3 has size 534"
     ]
    }
   ],
   "source": [
    "# X = np.hstack((returns_trans, returns1, industry1))\n",
    "X = np.hstack((pca.components_.T, mean_returns, industry1, marketcap1))\n",
    "print(X)"
   ]
  },
  {
   "cell_type": "code",
   "execution_count": null,
   "id": "1746f2f0",
   "metadata": {},
   "outputs": [],
   "source": [
    "%%HTML\n",
    "<h1>Scale the Data</h1>"
   ]
  },
  {
   "cell_type": "code",
   "execution_count": null,
   "id": "6944f3eb",
   "metadata": {},
   "outputs": [],
   "source": [
    "from sklearn import preprocessing\n",
    "\n",
    "X = preprocessing.StandardScaler().fit_transform(X)\n",
    "print(X.shape)"
   ]
  },
  {
   "cell_type": "code",
   "execution_count": null,
   "id": "68b0ae7e",
   "metadata": {},
   "outputs": [],
   "source": [
    "%%HTML\n",
    "<h1>DBSCAN Clustering</h1>"
   ]
  },
  {
   "cell_type": "code",
   "execution_count": null,
   "id": "195fa600",
   "metadata": {
    "scrolled": true
   },
   "outputs": [],
   "source": [
    "from sklearn.cluster import KMeans, DBSCAN\n",
    "clf = DBSCAN(eps=3.9, min_samples=3)\n",
    "print(clf)\n",
    "\n",
    "clf.fit(X)\n",
    "labels = clf.labels_\n",
    "n_clusters_ = len(set(labels)) - (1 if -1 in labels else 0)\n",
    "print (\"\\nClusters discovered: %d\" % n_clusters_)\n",
    "\n",
    "clustered = clf.labels_"
   ]
  },
  {
   "cell_type": "code",
   "execution_count": null,
   "id": "aa5d0bb8",
   "metadata": {
    "scrolled": false
   },
   "outputs": [],
   "source": [
    "from sklearn import metrics\n",
    "print(\"dbscan\", metrics.silhouette_score(X, clf.labels_, metric='euclidean'))"
   ]
  },
  {
   "cell_type": "code",
   "execution_count": null,
   "id": "0444788a",
   "metadata": {},
   "outputs": [],
   "source": [
    "%%HTML\n",
    "<h1>Cluster Visualization</h1>"
   ]
  },
  {
   "cell_type": "code",
   "execution_count": null,
   "id": "1dce2e2a",
   "metadata": {},
   "outputs": [],
   "source": [
    "# the initial dimensionality of the search was\n",
    "ticker_count = len(returns.columns)\n",
    "print(\"Total pairs possible in universe: %d \" % (ticker_count*(ticker_count-1)/2))"
   ]
  },
  {
   "cell_type": "code",
   "execution_count": null,
   "id": "9d5cd5a8",
   "metadata": {
    "scrolled": false
   },
   "outputs": [],
   "source": [
    "clustered_series = pd.Series(index=returns.columns, data=clustered.flatten())\n",
    "clustered_series_all = pd.Series(index=returns.columns, data=clustered.flatten())\n",
    "clustered_series = clustered_series[clustered_series != -1]"
   ]
  },
  {
   "cell_type": "code",
   "execution_count": null,
   "id": "7746eebe",
   "metadata": {},
   "outputs": [],
   "source": [
    "from sklearn.manifold import TSNE\n",
    "X_tsne = TSNE(init = \"random\", learning_rate=1000, perplexity=25, random_state=1337).fit_transform(X)"
   ]
  },
  {
   "cell_type": "code",
   "execution_count": null,
   "id": "99f8728f",
   "metadata": {},
   "outputs": [],
   "source": [
    "import matplotlib.pyplot as plt\n",
    "import matplotlib.cm as cm\n",
    "plt.figure(1, facecolor='white')\n",
    "plt.clf()\n",
    "plt.axis('off')\n",
    "plt.scatter(\n",
    "    X_tsne[(labels!=-1), 0],\n",
    "    X_tsne[(labels!=-1), 1],\n",
    "    s=100,\n",
    "    alpha=0.85,\n",
    "    c=labels[labels!=-1],\n",
    "    cmap=cm.Paired\n",
    ")\n",
    "\n",
    "plt.scatter(\n",
    "    X_tsne[(clustered_series_all==-1).values, 0],\n",
    "    X_tsne[(clustered_series_all==-1).values, 1],\n",
    "    s=100,\n",
    "    alpha=0.05\n",
    ")\n",
    "\n",
    "plt.title('T-SNE of all Stocks with DBSCAN Clusters Noted');"
   ]
  },
  {
   "cell_type": "code",
   "execution_count": null,
   "id": "96c49182",
   "metadata": {},
   "outputs": [],
   "source": [
    "plt.barh(range(len(clustered_series.value_counts())), clustered_series.value_counts())\n",
    "plt.title('Cluster Member Counts')\n",
    "plt.xlabel('Stocks in Cluster')\n",
    "plt.ylabel('Cluster Number')"
   ]
  },
  {
   "cell_type": "code",
   "execution_count": null,
   "id": "0cc189dd",
   "metadata": {
    "scrolled": false
   },
   "outputs": [],
   "source": [
    "# get the number of stocks in each cluster\n",
    "counts = clustered_series.value_counts()\n",
    "\n",
    "# let's visualize some clusters\n",
    "cluster_vis_list = list(counts[(counts<20) & (counts>1)].index)[::-1]\n",
    "\n",
    "# plot a handful of the smallest clusters\n",
    "for clust in cluster_vis_list[0:min(len(cluster_vis_list), 3)]:\n",
    "    tickers = list(clustered_series[clustered_series==clust].index)\n",
    "    means = np.log(pricing[tickers].mean())\n",
    "    datas = np.log(pricing[tickers]).sub(means)\n",
    "    datas.plot(title='Stock Time Series for Cluster %d' % clust)"
   ]
  },
  {
   "cell_type": "code",
   "execution_count": null,
   "id": "d73cfa82",
   "metadata": {},
   "outputs": [],
   "source": [
    "%%HTML\n",
    "<h1>Pair Selection</h1>"
   ]
  },
  {
   "cell_type": "code",
   "execution_count": null,
   "id": "67769363",
   "metadata": {},
   "outputs": [],
   "source": [
    "CLUSTER_SIZE_LIMIT = 9999\n",
    "counts = clustered_series.value_counts()\n",
    "ticker_count_reduced = counts[(counts>1) & (counts<=CLUSTER_SIZE_LIMIT)]\n",
    "print (\"Clusters formed: %d\" % len(ticker_count_reduced))\n",
    "print (\"Pairs to evaluate: %d\" % (ticker_count_reduced*(ticker_count_reduced-1)).sum())"
   ]
  },
  {
   "cell_type": "code",
   "execution_count": null,
   "id": "80295f8f",
   "metadata": {},
   "outputs": [],
   "source": [
    "%%HTML\n",
    "<h3>Cointegration and pair selection function</h3>"
   ]
  },
  {
   "cell_type": "code",
   "execution_count": null,
   "id": "70788095",
   "metadata": {},
   "outputs": [],
   "source": [
    "from statsmodels.tsa.stattools import coint\n",
    "def find_cointegrated_pairs(data, significance=0.05):\n",
    "    # This function is from https://www.quantopian.com/lectures/introduction-to-pairs-trading\n",
    "    n = data.shape[1]\n",
    "    score_matrix = np.zeros((n, n))\n",
    "    pvalue_matrix = np.ones((n, n))\n",
    "    keys = data.keys()\n",
    "    pairs = []\n",
    "    for i in range(1):\n",
    "        for j in range(i+1, n):\n",
    "            S1 = data[keys[i]]            \n",
    "            S2 = data[keys[j]]\n",
    "            result = coint(S1, S2)\n",
    "            score = result[0]\n",
    "            pvalue = result[1]\n",
    "            score_matrix[i, j] = score\n",
    "            pvalue_matrix[i, j] = pvalue\n",
    "            if pvalue < significance:\n",
    "                pairs.append((keys[i], keys[j]))\n",
    "    return score_matrix, pvalue_matrix, pairs"
   ]
  },
  {
   "cell_type": "code",
   "execution_count": null,
   "id": "8005c43d",
   "metadata": {
    "scrolled": false
   },
   "outputs": [],
   "source": [
    "from statsmodels.tsa.stattools import coint\n",
    "\n",
    "cluster_dict = {}\n",
    "for i, which_clust in enumerate(ticker_count_reduced.index):\n",
    "    tickers = clustered_series[clustered_series == which_clust].index\n",
    "    score_matrix, pvalue_matrix, pairs = find_cointegrated_pairs(pricing[tickers])\n",
    "    cluster_dict[which_clust] = {}\n",
    "    cluster_dict[which_clust]['score_matrix'] = score_matrix\n",
    "    cluster_dict[which_clust]['pvalue_matrix'] = pvalue_matrix\n",
    "    cluster_dict[which_clust]['pairs'] = pairs"
   ]
  },
  {
   "cell_type": "code",
   "execution_count": null,
   "id": "b117eb47",
   "metadata": {},
   "outputs": [],
   "source": [
    "pairs = []\n",
    "for clust in cluster_dict.keys():\n",
    "    pairs.extend(cluster_dict[clust]['pairs'])"
   ]
  },
  {
   "cell_type": "code",
   "execution_count": null,
   "id": "ca6ccd43",
   "metadata": {
    "scrolled": false
   },
   "outputs": [],
   "source": [
    "pairs"
   ]
  },
  {
   "cell_type": "code",
   "execution_count": null,
   "id": "51f9e442",
   "metadata": {},
   "outputs": [],
   "source": [
    "%%HTML\n",
    "<h1>TSNE Visualization of Pairs</h1>"
   ]
  },
  {
   "cell_type": "code",
   "execution_count": null,
   "id": "9ab9bf4c",
   "metadata": {},
   "outputs": [],
   "source": [
    "from sklearn.manifold import TSNE\n",
    "import matplotlib.cm as cm\n",
    "\n",
    "stocks = np.unique(pairs)\n",
    "X_df = pd.DataFrame(index=returns.T.index, data=X)\n",
    "in_pairs_series = clustered_series.loc[stocks]\n",
    "stocks = list(np.unique(pairs))\n",
    "X_pairs = X_df.loc[stocks]\n",
    "\n",
    "X_tsne = TSNE(init = \"random\", learning_rate=50, perplexity=3, random_state=1337).fit_transform(X_pairs)"
   ]
  },
  {
   "cell_type": "code",
   "execution_count": null,
   "id": "b6786110",
   "metadata": {},
   "outputs": [],
   "source": [
    "plt.figure(1, facecolor='white',figsize=(15,10))\n",
    "plt.clf()\n",
    "plt.axis('off')\n",
    "for pair in pairs:\n",
    "    ticker1 = pair[0]\n",
    "    loc1 = X_pairs.index.get_loc(pair[0])\n",
    "    x1, y1 = X_tsne[loc1, :]\n",
    "    ticker2 = pair[1]\n",
    "    loc2 = X_pairs.index.get_loc(pair[1])\n",
    "    x2, y2 = X_tsne[loc2, :]\n",
    "    plt.plot([x1, x2], [y1, y2], 'k-', alpha=0.3);\n",
    "    \n",
    "plt.scatter(X_tsne[:, 0], X_tsne[:, 1], s=215, alpha=0.8, c=in_pairs_series.values, cmap=cm.Paired)\n",
    "plt.title('TSNE Visualization of Pairs'); \n",
    "\n",
    "# Join pairs by x and y\n",
    "for x,y,name in zip(X_tsne[:,0],X_tsne[:,1],X_pairs.index):\n",
    "\n",
    "    label = name\n",
    "\n",
    "    plt.annotate(label,\n",
    "                 (x,y),\n",
    "                 textcoords=\"offset points\",\n",
    "                 xytext=(0,10),\n",
    "                 ha='center')\n",
    "    \n",
    "plt.show()"
   ]
  },
  {
   "cell_type": "code",
   "execution_count": null,
   "id": "2aa82f07",
   "metadata": {
    "scrolled": false
   },
   "outputs": [],
   "source": [
    "import matplotlib.pyplot as plt\n",
    "\n",
    "plt.plot(data1['AAA'].loc[start_date:end_date], label='AAA', color='blue')\n",
    "plt.plot(data1['VBC'].loc[start_date:end_date], label='VBC', color='green')\n",
    "plt.legend(title='Ticker')\n",
    "\n",
    "#add axes labels and a title\n",
    "plt.ylabel('Price', fontsize=14)\n",
    "plt.xlabel('Time', fontsize=14)\n",
    "plt.title('Price Time Series of 2 Cointegrated Stocks', fontsize=16)\n",
    "\n",
    "#display plot\n",
    "plt.show()"
   ]
  },
  {
   "cell_type": "code",
   "execution_count": null,
   "id": "7bead4bd",
   "metadata": {},
   "outputs": [],
   "source": []
  }
 ],
 "metadata": {
  "kernelspec": {
   "display_name": "Python 3 (ipykernel)",
   "language": "python",
   "name": "python3"
  },
  "language_info": {
   "codemirror_mode": {
    "name": "ipython",
    "version": 3
   },
   "file_extension": ".py",
   "mimetype": "text/x-python",
   "name": "python",
   "nbconvert_exporter": "python",
   "pygments_lexer": "ipython3",
   "version": "3.9.13"
  }
 },
 "nbformat": 4,
 "nbformat_minor": 5
}
