{
 "cells": [
  {
   "cell_type": "code",
   "execution_count": 1,
   "id": "9691296c",
   "metadata": {},
   "outputs": [
    {
     "data": {
      "text/html": [
       "<div>\n",
       "<style scoped>\n",
       "    .dataframe tbody tr th:only-of-type {\n",
       "        vertical-align: middle;\n",
       "    }\n",
       "\n",
       "    .dataframe tbody tr th {\n",
       "        vertical-align: top;\n",
       "    }\n",
       "\n",
       "    .dataframe thead th {\n",
       "        text-align: right;\n",
       "    }\n",
       "</style>\n",
       "<table border=\"1\" class=\"dataframe\">\n",
       "  <thead>\n",
       "    <tr style=\"text-align: right;\">\n",
       "      <th></th>\n",
       "      <th>&lt;Ticker&gt;</th>\n",
       "      <th>&lt;DTYYYYMMDD&gt;</th>\n",
       "      <th>&lt;Open&gt;</th>\n",
       "      <th>&lt;High&gt;</th>\n",
       "      <th>&lt;Low&gt;</th>\n",
       "      <th>&lt;Close&gt;</th>\n",
       "      <th>&lt;Volume&gt;</th>\n",
       "    </tr>\n",
       "  </thead>\n",
       "  <tbody>\n",
       "    <tr>\n",
       "      <th>0</th>\n",
       "      <td>AAV</td>\n",
       "      <td>20210730</td>\n",
       "      <td>12.4</td>\n",
       "      <td>12.4</td>\n",
       "      <td>12.1</td>\n",
       "      <td>12.4</td>\n",
       "      <td>166400</td>\n",
       "    </tr>\n",
       "    <tr>\n",
       "      <th>1</th>\n",
       "      <td>ABT</td>\n",
       "      <td>20210730</td>\n",
       "      <td>26.0</td>\n",
       "      <td>27.2</td>\n",
       "      <td>26.0</td>\n",
       "      <td>27.1</td>\n",
       "      <td>1207</td>\n",
       "    </tr>\n",
       "    <tr>\n",
       "      <th>2</th>\n",
       "      <td>ACM</td>\n",
       "      <td>20210730</td>\n",
       "      <td>2.3</td>\n",
       "      <td>2.4</td>\n",
       "      <td>2.3</td>\n",
       "      <td>2.4</td>\n",
       "      <td>592463</td>\n",
       "    </tr>\n",
       "    <tr>\n",
       "      <th>3</th>\n",
       "      <td>ADC</td>\n",
       "      <td>20210730</td>\n",
       "      <td>21.5</td>\n",
       "      <td>21.5</td>\n",
       "      <td>21.5</td>\n",
       "      <td>21.5</td>\n",
       "      <td>0</td>\n",
       "    </tr>\n",
       "    <tr>\n",
       "      <th>4</th>\n",
       "      <td>ALT</td>\n",
       "      <td>20210730</td>\n",
       "      <td>12.7</td>\n",
       "      <td>12.7</td>\n",
       "      <td>12.7</td>\n",
       "      <td>12.7</td>\n",
       "      <td>0</td>\n",
       "    </tr>\n",
       "  </tbody>\n",
       "</table>\n",
       "</div>"
      ],
      "text/plain": [
       "  <Ticker>  <DTYYYYMMDD>  <Open>  <High>  <Low>  <Close>  <Volume>\n",
       "0      AAV      20210730    12.4    12.4   12.1     12.4    166400\n",
       "1      ABT      20210730    26.0    27.2   26.0     27.1      1207\n",
       "2      ACM      20210730     2.3     2.4    2.3      2.4    592463\n",
       "3      ADC      20210730    21.5    21.5   21.5     21.5         0\n",
       "4      ALT      20210730    12.7    12.7   12.7     12.7         0"
      ]
     },
     "execution_count": 1,
     "metadata": {},
     "output_type": "execute_result"
    }
   ],
   "source": [
    "import pandas as pd\n",
    "df1 = pd.read_csv('210730_HNX_ALL.txt', sep = ',')\n",
    "df2 = pd.read_csv('210730_HOSE_ALL.txt', sep = ',')\n",
    "\n",
    "frames = [df1, df2]\n",
    "df = pd.concat(frames, ignore_index = True)\n",
    "df.head()"
   ]
  },
  {
   "cell_type": "code",
   "execution_count": 2,
   "id": "89daead3",
   "metadata": {},
   "outputs": [
    {
     "name": "stdout",
     "output_type": "stream",
     "text": [
      "       Ticker\n",
      "0         AAV\n",
      "1         ABT\n",
      "2         ACM\n",
      "3         ADC\n",
      "4         ALT\n",
      "...       ...\n",
      "721477    VSI\n",
      "721478    VTB\n",
      "721479    VTO\n",
      "721480    YBM\n",
      "721481    YEG\n",
      "\n",
      "[750 rows x 1 columns]\n"
     ]
    }
   ],
   "source": [
    "df.columns=df.columns.str.replace('[<,>]','', regex=True)\n",
    "df.head()\n",
    "\n",
    "# Drop duplicate records\n",
    "df_modified = df.drop_duplicates(subset = ['Ticker'], keep = 'first')\n",
    "df_modified = df_modified[['Ticker']]\n",
    "df_modified.reset_index(drop=True)\n",
    "print(df_modified)"
   ]
  },
  {
   "cell_type": "code",
   "execution_count": 3,
   "id": "e14f0cfd",
   "metadata": {},
   "outputs": [],
   "source": [
    "df_modified.to_excel(\"ticker.xlsx\")"
   ]
  },
  {
   "cell_type": "code",
   "execution_count": null,
   "id": "0a238a91",
   "metadata": {},
   "outputs": [],
   "source": []
  }
 ],
 "metadata": {
  "kernelspec": {
   "display_name": "Python 3 (ipykernel)",
   "language": "python",
   "name": "python3"
  },
  "language_info": {
   "codemirror_mode": {
    "name": "ipython",
    "version": 3
   },
   "file_extension": ".py",
   "mimetype": "text/x-python",
   "name": "python",
   "nbconvert_exporter": "python",
   "pygments_lexer": "ipython3",
   "version": "3.9.13"
  }
 },
 "nbformat": 4,
 "nbformat_minor": 5
}
